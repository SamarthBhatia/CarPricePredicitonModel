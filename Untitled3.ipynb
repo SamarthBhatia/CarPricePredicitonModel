{
 "cells": [
  {
   "cell_type": "code",
   "execution_count": 3,
   "id": "5e1ba50c",
   "metadata": {},
   "outputs": [],
   "source": [
    "import pandas as pd\n",
    "import numpy as np"
   ]
  },
  {
   "cell_type": "code",
   "execution_count": 4,
   "id": "8aac8c62",
   "metadata": {},
   "outputs": [],
   "source": [
    "car=pd.read_csv('cardekho_updated.csv')"
   ]
  },
  {
   "cell_type": "code",
   "execution_count": 5,
   "id": "a7682b16",
   "metadata": {},
   "outputs": [
    {
     "data": {
      "text/html": [
       "<div>\n",
       "<style scoped>\n",
       "    .dataframe tbody tr th:only-of-type {\n",
       "        vertical-align: middle;\n",
       "    }\n",
       "\n",
       "    .dataframe tbody tr th {\n",
       "        vertical-align: top;\n",
       "    }\n",
       "\n",
       "    .dataframe thead th {\n",
       "        text-align: right;\n",
       "    }\n",
       "</style>\n",
       "<table border=\"1\" class=\"dataframe\">\n",
       "  <thead>\n",
       "    <tr style=\"text-align: right;\">\n",
       "      <th></th>\n",
       "      <th>full_name</th>\n",
       "      <th>selling_price</th>\n",
       "      <th>new_price</th>\n",
       "      <th>year</th>\n",
       "      <th>seller_type</th>\n",
       "      <th>km_driven</th>\n",
       "      <th>owner_type</th>\n",
       "      <th>fuel_type</th>\n",
       "      <th>transmission_type</th>\n",
       "      <th>mileage</th>\n",
       "      <th>engine</th>\n",
       "      <th>max_power</th>\n",
       "      <th>seats</th>\n",
       "    </tr>\n",
       "  </thead>\n",
       "  <tbody>\n",
       "    <tr>\n",
       "      <th>0</th>\n",
       "      <td>Maruti Alto Std</td>\n",
       "      <td>1.2 Lakh*</td>\n",
       "      <td>NaN</td>\n",
       "      <td>2012</td>\n",
       "      <td>Individual</td>\n",
       "      <td>1,20,000 kms</td>\n",
       "      <td>First Owner</td>\n",
       "      <td>Petrol</td>\n",
       "      <td>Manual</td>\n",
       "      <td>Mileage19.7 kmpl</td>\n",
       "      <td>Engine796 CC</td>\n",
       "      <td>Max Power46.3 bhp</td>\n",
       "      <td>Seats5</td>\n",
       "    </tr>\n",
       "    <tr>\n",
       "      <th>1</th>\n",
       "      <td>Hyundai Grand i10 Asta</td>\n",
       "      <td>5.5 Lakh*</td>\n",
       "      <td>New Car (On-Road Price) : Rs.7.11-7.48 Lakh*</td>\n",
       "      <td>2016</td>\n",
       "      <td>Individual</td>\n",
       "      <td>20,000 kms</td>\n",
       "      <td>First Owner</td>\n",
       "      <td>Petrol</td>\n",
       "      <td>Manual</td>\n",
       "      <td>Mileage18.9 kmpl</td>\n",
       "      <td>Engine1197 CC</td>\n",
       "      <td>Max Power82 bhp</td>\n",
       "      <td>Seats5</td>\n",
       "    </tr>\n",
       "    <tr>\n",
       "      <th>2</th>\n",
       "      <td>Hyundai i20 Asta</td>\n",
       "      <td>2.15 Lakh*</td>\n",
       "      <td>NaN</td>\n",
       "      <td>2010</td>\n",
       "      <td>Individual</td>\n",
       "      <td>60,000 kms</td>\n",
       "      <td>First Owner</td>\n",
       "      <td>Petrol</td>\n",
       "      <td>Manual</td>\n",
       "      <td>Mileage17.0 kmpl</td>\n",
       "      <td>Engine1197 CC</td>\n",
       "      <td>Max Power80 bhp</td>\n",
       "      <td>Seats5</td>\n",
       "    </tr>\n",
       "    <tr>\n",
       "      <th>3</th>\n",
       "      <td>Maruti Alto K10 2010-2014 VXI</td>\n",
       "      <td>2.26 Lakh*</td>\n",
       "      <td>NaN</td>\n",
       "      <td>2012</td>\n",
       "      <td>Individual</td>\n",
       "      <td>37,000 kms</td>\n",
       "      <td>First Owner</td>\n",
       "      <td>Petrol</td>\n",
       "      <td>Manual</td>\n",
       "      <td>Mileage20.92 kmpl</td>\n",
       "      <td>Engine998 CC</td>\n",
       "      <td>Max Power67.1 bhp</td>\n",
       "      <td>Seats5</td>\n",
       "    </tr>\n",
       "    <tr>\n",
       "      <th>4</th>\n",
       "      <td>Ford Ecosport 2015-2021 1.5 TDCi Titanium BSIV</td>\n",
       "      <td>5.7 Lakh*</td>\n",
       "      <td>New Car (On-Road Price) : Rs.10.14-13.79 Lakh*</td>\n",
       "      <td>2015</td>\n",
       "      <td>Dealer</td>\n",
       "      <td>30,000 kms</td>\n",
       "      <td>First Owner</td>\n",
       "      <td>Diesel</td>\n",
       "      <td>Manual</td>\n",
       "      <td>Mileage22.77 kmpl</td>\n",
       "      <td>Engine1498 CC</td>\n",
       "      <td>Max Power98.59 bhp</td>\n",
       "      <td>Seats5</td>\n",
       "    </tr>\n",
       "  </tbody>\n",
       "</table>\n",
       "</div>"
      ],
      "text/plain": [
       "                                        full_name selling_price  \\\n",
       "0                                 Maruti Alto Std     1.2 Lakh*   \n",
       "1                          Hyundai Grand i10 Asta     5.5 Lakh*   \n",
       "2                                Hyundai i20 Asta    2.15 Lakh*   \n",
       "3                   Maruti Alto K10 2010-2014 VXI    2.26 Lakh*   \n",
       "4  Ford Ecosport 2015-2021 1.5 TDCi Titanium BSIV     5.7 Lakh*   \n",
       "\n",
       "                                        new_price  year seller_type  \\\n",
       "0                                             NaN  2012  Individual   \n",
       "1    New Car (On-Road Price) : Rs.7.11-7.48 Lakh*  2016  Individual   \n",
       "2                                             NaN  2010  Individual   \n",
       "3                                             NaN  2012  Individual   \n",
       "4  New Car (On-Road Price) : Rs.10.14-13.79 Lakh*  2015      Dealer   \n",
       "\n",
       "      km_driven   owner_type fuel_type transmission_type            mileage  \\\n",
       "0  1,20,000 kms  First Owner    Petrol            Manual   Mileage19.7 kmpl   \n",
       "1    20,000 kms  First Owner    Petrol            Manual   Mileage18.9 kmpl   \n",
       "2    60,000 kms  First Owner    Petrol            Manual   Mileage17.0 kmpl   \n",
       "3    37,000 kms  First Owner    Petrol            Manual  Mileage20.92 kmpl   \n",
       "4    30,000 kms  First Owner    Diesel            Manual  Mileage22.77 kmpl   \n",
       "\n",
       "          engine           max_power   seats  \n",
       "0   Engine796 CC   Max Power46.3 bhp  Seats5  \n",
       "1  Engine1197 CC     Max Power82 bhp  Seats5  \n",
       "2  Engine1197 CC     Max Power80 bhp  Seats5  \n",
       "3   Engine998 CC   Max Power67.1 bhp  Seats5  \n",
       "4  Engine1498 CC  Max Power98.59 bhp  Seats5  "
      ]
     },
     "execution_count": 5,
     "metadata": {},
     "output_type": "execute_result"
    }
   ],
   "source": [
    "car.head()"
   ]
  },
  {
   "cell_type": "code",
   "execution_count": 6,
   "id": "a2655802",
   "metadata": {},
   "outputs": [
    {
     "data": {
      "text/plain": [
       "(19974, 13)"
      ]
     },
     "execution_count": 6,
     "metadata": {},
     "output_type": "execute_result"
    }
   ],
   "source": [
    "car.shape"
   ]
  },
  {
   "cell_type": "code",
   "execution_count": 7,
   "id": "58ddfd91",
   "metadata": {},
   "outputs": [
    {
     "data": {
      "text/plain": [
       "<bound method DataFrame.info of                                             full_name selling_price  \\\n",
       "0                                     Maruti Alto Std     1.2 Lakh*   \n",
       "1                              Hyundai Grand i10 Asta     5.5 Lakh*   \n",
       "2                                    Hyundai i20 Asta    2.15 Lakh*   \n",
       "3                       Maruti Alto K10 2010-2014 VXI    2.26 Lakh*   \n",
       "4      Ford Ecosport 2015-2021 1.5 TDCi Titanium BSIV     5.7 Lakh*   \n",
       "...                                               ...           ...   \n",
       "19969                   Toyota Platinum Etios 1.4 GXD     6.5 Lakh*   \n",
       "19970                          Maruti Ertiga BSIV VXI    9.25 Lakh*   \n",
       "19971                    Skoda Rapid 1.5 TDI Elegance    4.25 Lakh*   \n",
       "19972                          Mahindra XUV500 W6 2WD   12.25 Lakh*   \n",
       "19973                        Honda City i-VTEC CVT VX      12 Lakh*   \n",
       "\n",
       "                                            new_price  year seller_type  \\\n",
       "0                                                 NaN  2012  Individual   \n",
       "1        New Car (On-Road Price) : Rs.7.11-7.48 Lakh*  2016  Individual   \n",
       "2                                                 NaN  2010  Individual   \n",
       "3                                                 NaN  2012  Individual   \n",
       "4      New Car (On-Road Price) : Rs.10.14-13.79 Lakh*  2015      Dealer   \n",
       "...                                               ...   ...         ...   \n",
       "19969                                             NaN  2017      Dealer   \n",
       "19970                                             NaN  2019      Dealer   \n",
       "19971                                             NaN  2015      Dealer   \n",
       "19972  New Car (On-Road Price) : Rs.17.83-24.91 Lakh*  2016      Dealer   \n",
       "19973                                             NaN  2019      Dealer   \n",
       "\n",
       "           km_driven   owner_type fuel_type transmission_type  \\\n",
       "0       1,20,000 kms  First Owner    Petrol            Manual   \n",
       "1         20,000 kms  First Owner    Petrol            Manual   \n",
       "2         60,000 kms  First Owner    Petrol            Manual   \n",
       "3         37,000 kms  First Owner    Petrol            Manual   \n",
       "4         30,000 kms  First Owner    Diesel            Manual   \n",
       "...              ...          ...       ...               ...   \n",
       "19969     69,480 kms  First Owner    Diesel            Manual   \n",
       "19970     18,000 kms  First Owner    Petrol            Manual   \n",
       "19971     67,000 kms  First Owner    Diesel            Manual   \n",
       "19972  38,00,000 kms  First Owner    Diesel            Manual   \n",
       "19973     13,000 kms  First Owner    Petrol         Automatic   \n",
       "\n",
       "                 mileage         engine            max_power   seats  \n",
       "0       Mileage19.7 kmpl   Engine796 CC    Max Power46.3 bhp  Seats5  \n",
       "1       Mileage18.9 kmpl  Engine1197 CC      Max Power82 bhp  Seats5  \n",
       "2       Mileage17.0 kmpl  Engine1197 CC      Max Power80 bhp  Seats5  \n",
       "3      Mileage20.92 kmpl   Engine998 CC    Max Power67.1 bhp  Seats5  \n",
       "4      Mileage22.77 kmpl  Engine1498 CC   Max Power98.59 bhp  Seats5  \n",
       "...                  ...            ...                  ...     ...  \n",
       "19969  Mileage23.59 kmpl  Engine1364 CC   Max Power67.05 bhp  Seats5  \n",
       "19970   Mileage17.5 kmpl  Engine1373 CC    Max Power91.1 bhp  Seats7  \n",
       "19971  Mileage21.14 kmpl  Engine1498 CC  Max Power103.52 bhp  Seats5  \n",
       "19972   Mileage16.0 kmpl  Engine2179 CC     Max Power140 bhp  Seats7  \n",
       "19973   Mileage18.0 kmpl  Engine1497 CC   Max Power117.6 bhp  Seats5  \n",
       "\n",
       "[19974 rows x 13 columns]>"
      ]
     },
     "execution_count": 7,
     "metadata": {},
     "output_type": "execute_result"
    }
   ],
   "source": [
    "car.info"
   ]
  },
  {
   "cell_type": "code",
   "execution_count": 8,
   "id": "b34b6967",
   "metadata": {},
   "outputs": [
    {
     "name": "stdout",
     "output_type": "stream",
     "text": [
      "<class 'pandas.core.frame.DataFrame'>\n",
      "RangeIndex: 19974 entries, 0 to 19973\n",
      "Data columns (total 13 columns):\n",
      " #   Column             Non-Null Count  Dtype \n",
      "---  ------             --------------  ----- \n",
      " 0   full_name          19974 non-null  object\n",
      " 1   selling_price      19974 non-null  object\n",
      " 2   new_price          9564 non-null   object\n",
      " 3   year               19974 non-null  int64 \n",
      " 4   seller_type        19974 non-null  object\n",
      " 5   km_driven          19974 non-null  object\n",
      " 6   owner_type         19974 non-null  object\n",
      " 7   fuel_type          19974 non-null  object\n",
      " 8   transmission_type  19974 non-null  object\n",
      " 9   mileage            19814 non-null  object\n",
      " 10  engine             19864 non-null  object\n",
      " 11  max_power          19637 non-null  object\n",
      " 12  seats              19887 non-null  object\n",
      "dtypes: int64(1), object(12)\n",
      "memory usage: 2.0+ MB\n"
     ]
    }
   ],
   "source": [
    "car.info()"
   ]
  },
  {
   "cell_type": "code",
   "execution_count": 9,
   "id": "0fcba7af",
   "metadata": {},
   "outputs": [
    {
     "data": {
      "text/plain": [
       "array([2012, 2016, 2010, 2015, 2013, 2018, 2019, 2017, 2014, 2011, 2007,\n",
       "       2009, 2004, 2020, 2006, 2008, 2000, 2005, 2002, 1999, 2003, 1997,\n",
       "       2001, 1992, 2021, 1998, 1991, 1996], dtype=int64)"
      ]
     },
     "execution_count": 9,
     "metadata": {},
     "output_type": "execute_result"
    }
   ],
   "source": [
    "car['year'].unique()"
   ]
  },
  {
   "cell_type": "code",
   "execution_count": 10,
   "id": "01861906",
   "metadata": {},
   "outputs": [
    {
     "data": {
      "text/plain": [
       "array(['1.2 Lakh*', '5.5 Lakh*', '2.15 Lakh*', ..., '52.95 Lakh*',\n",
       "       '16.4 Lakh*', '4.56 Lakh*'], dtype=object)"
      ]
     },
     "execution_count": 10,
     "metadata": {},
     "output_type": "execute_result"
    }
   ],
   "source": [
    "car['selling_price'].unique()"
   ]
  },
  {
   "cell_type": "code",
   "execution_count": 11,
   "id": "58569036",
   "metadata": {},
   "outputs": [
    {
     "data": {
      "text/plain": [
       "array(['1,20,000 kms', '20,000 kms', '60,000 kms', ..., '10,723 kms',\n",
       "       '69,480 kms', '38,00,000 kms'], dtype=object)"
      ]
     },
     "execution_count": 11,
     "metadata": {},
     "output_type": "execute_result"
    }
   ],
   "source": [
    "car['km_driven'].unique()"
   ]
  },
  {
   "cell_type": "code",
   "execution_count": 12,
   "id": "5d986731",
   "metadata": {},
   "outputs": [
    {
     "data": {
      "text/plain": [
       "array(['Individual', 'Dealer', 'Trustmark Dealer'], dtype=object)"
      ]
     },
     "execution_count": 12,
     "metadata": {},
     "output_type": "execute_result"
    }
   ],
   "source": [
    "car['seller_type'].unique()"
   ]
  },
  {
   "cell_type": "code",
   "execution_count": 13,
   "id": "2d9e7542",
   "metadata": {},
   "outputs": [
    {
     "data": {
      "text/plain": [
       "array(['First Owner'], dtype=object)"
      ]
     },
     "execution_count": 13,
     "metadata": {},
     "output_type": "execute_result"
    }
   ],
   "source": [
    "car['owner_type'].unique()"
   ]
  },
  {
   "cell_type": "code",
   "execution_count": 14,
   "id": "4fa21668",
   "metadata": {},
   "outputs": [
    {
     "data": {
      "text/plain": [
       "array(['Petrol', 'Diesel', 'CNG', 'LPG', 'Electric'], dtype=object)"
      ]
     },
     "execution_count": 14,
     "metadata": {},
     "output_type": "execute_result"
    }
   ],
   "source": [
    "car['fuel_type'].unique()"
   ]
  },
  {
   "cell_type": "code",
   "execution_count": 15,
   "id": "1890566c",
   "metadata": {},
   "outputs": [
    {
     "data": {
      "text/plain": [
       "array(['Manual', 'Automatic'], dtype=object)"
      ]
     },
     "execution_count": 15,
     "metadata": {},
     "output_type": "execute_result"
    }
   ],
   "source": [
    "car['transmission_type'].unique()"
   ]
  },
  {
   "cell_type": "code",
   "execution_count": 16,
   "id": "07ebe19c",
   "metadata": {},
   "outputs": [
    {
     "data": {
      "text/plain": [
       "array(['Mileage19.7 kmpl', 'Mileage18.9 kmpl', 'Mileage17.0 kmpl',\n",
       "       'Mileage20.92 kmpl', 'Mileage22.77 kmpl', 'Mileage20.36 kmpl',\n",
       "       'Mileage20.51 kmpl', 'Mileage18.15 kmpl', 'Mileage18.49 kmpl',\n",
       "       'Mileage19.09 kmpl', 'Mileage20.37 kmpl', 'Mileage16.6 kmpl',\n",
       "       'Mileage19.34 kmpl', 'Mileage22.32 kmpl', 'Mileage19.64 kmpl',\n",
       "       'Mileage14.41 kmpl', 'Mileage28.09 kmpl', 'Mileage25.2 kmpl',\n",
       "       'Mileage19.27 kmpl', 'Mileage28.4 kmpl', 'Mileage12.99 kmpl',\n",
       "       'Mileage21.4 kmpl', 'Mileage20.85 kmpl', 'Mileage17.8 kmpl',\n",
       "       'Mileage16.09 kmpl', 'Mileage19.67 kmpl', 'Mileage14.02 kmpl',\n",
       "       'Mileage17.4 kmpl', 'Mileage13.6 kmpl', 'Mileage26.59 kmpl',\n",
       "       'Mileage17.7 kmpl', 'Mileage17.19 kmpl', 'Mileage13.0 kmpl',\n",
       "       'Mileage23.01 kmpl', 'Mileage18.6 kmpl', 'Mileage17.92 kmpl',\n",
       "       'Mileage15.1 kmpl', 'Mileage23.4 kmpl', 'Mileage14.0 kmpl',\n",
       "       'Mileage22.1 kmpl', 'Mileage19.1 kmpl', 'Mileage22.54 kmpl',\n",
       "       'Mileage18.0 kmpl', 'Mileage16.1 kmpl', 'Mileage20.5 kmpl',\n",
       "       'Mileage12.2 kmpl', 'Mileage21.0 kmpl', 'Mileage26.0 kmpl',\n",
       "       'Mileage17.6 kmpl', 'Mileage15.4 kmpl', 'Mileage20.89 kmpl',\n",
       "       'Mileage14.53 kmpl', 'Mileage26.6 km/kg', 'Mileage22.5 kmpl',\n",
       "       'Mileage25.0 kmpl', 'Mileage25.4 kmpl', 'Mileage16.8 kmpl',\n",
       "       'Mileage20.54 kmpl', 'Mileage17.3 kmpl', 'Mileage24.0 kmpl',\n",
       "       'Mileage18.16 kmpl', 'Mileage21.21 kmpl', 'Mileage23.5 kmpl',\n",
       "       'Mileage25.17 kmpl', 'Mileage24.3 kmpl', 'Mileage18.5 kmpl',\n",
       "       'Mileage23.84 kmpl', 'Mileage18.78 kmpl', 'Mileage11.74 kmpl',\n",
       "       'Mileage25.1 kmpl', 'Mileage21.01 kmpl', 'Mileage22.74 kmpl',\n",
       "       'Mileage21.9 kmpl', 'Mileage25.44 kmpl', 'Mileage15.6 kmpl',\n",
       "       'Mileage23.59 kmpl', 'Mileage22.07 kmpl', 'Mileage22.0 kmpl',\n",
       "       'Mileage23.1 kmpl', 'Mileage23.0 kmpl', 'Mileage19.08 kmpl',\n",
       "       'Mileage18.27 kmpl', 'Mileage20.45 kmpl', 'Mileage23.9 kmpl',\n",
       "       'Mileage14.66 kmpl', 'Mileage20.14 kmpl', 'Mileage19.81 kmpl',\n",
       "       'Mileage19.44 kmpl', 'Mileage18.59 kmpl', 'Mileage20.62 kmpl',\n",
       "       'Mileage17.01 kmpl', nan, 'Mileage17.5 kmpl', 'Mileage12.05 kmpl',\n",
       "       'Mileage25.83 kmpl', 'Mileage21.79 kmpl', 'Mileage13.7 kmpl',\n",
       "       'Mileage16.47 kmpl', 'Mileage20.7 kmpl', 'Mileage17.71 kmpl',\n",
       "       'Mileage10.91 kmpl', 'Mileage25.8 kmpl', 'Mileage25.32 kmpl',\n",
       "       'Mileage14.49 kmpl', 'Mileage19.87 kmpl', 'Mileage18.7 kmpl',\n",
       "       'Mileage14.4 km/kg', 'Mileage18.2 kmpl', 'Mileage13.5 kmpl',\n",
       "       'Mileage22.69 kmpl', 'Mileage21.1 kmpl', 'Mileage13.01 kmpl',\n",
       "       'Mileage15.3 kmpl', 'Mileage20.73 kmpl', 'Mileage12.8 kmpl',\n",
       "       'Mileage16.55 kmpl', 'Mileage20.0 kmpl', 'Mileage21.5 kmpl',\n",
       "       'Mileage24.7 kmpl', 'Mileage21.12 kmpl', 'Mileage16.78 kmpl',\n",
       "       'Mileage19.4 kmpl', 'Mileage23.95 kmpl', 'Mileage21.63 kmpl',\n",
       "       'Mileage14.4 kmpl', 'Mileage17.43 kmpl', 'Mileage23.65 kmpl',\n",
       "       'Mileage15.73 kmpl', 'Mileage25.47 kmpl', 'Mileage33.54 km/kg',\n",
       "       'Mileage15.96 kmpl', 'Mileage21.19 kmpl', 'Mileage21.64 kmpl',\n",
       "       'Mileage23.08 kmpl', 'Mileage12.55 kmpl', 'Mileage16.9 kmpl',\n",
       "       'Mileage12.33 kmpl', 'Mileage21.43 kmpl', 'Mileage18.06 kmpl',\n",
       "       'Mileage22.3 kmpl', 'Mileage12.9 kmpl', 'Mileage17.84 kmpl',\n",
       "       'Mileage27.28 kmpl', 'Mileage24.4 kmpl', 'Mileage24.04 kmpl',\n",
       "       'Mileage22.7 kmpl', 'Mileage13.2 kmpl', 'Mileage16.0 kmpl',\n",
       "       'Mileage21.7 kmpl', 'Mileage16.84 kmpl', 'Mileage14.28 kmpl',\n",
       "       'Mileage17.14 kmpl', 'Mileage19.6 kmpl', 'Mileage20.4 kmpl',\n",
       "       'Mileage12.63 kmpl', 'Mileage17.1 kmpl', 'Mileage15.37 kmpl',\n",
       "       'Mileage19.01 kmpl', 'Mileage11.4 kmpl', 'Mileage13.68 kmpl',\n",
       "       'Mileage17.68 kmpl', 'Mileage12.3 kmpl', 'Mileage19.0 kmpl',\n",
       "       'Mileage17.21 kmpl', 'Mileage12.19 kmpl', 'Mileage17.33 kmpl',\n",
       "       'Mileage20.77 kmpl', 'Mileage12.07 kmpl', 'Mileage20.3 kmpl',\n",
       "       'Mileage27.39 kmpl', 'Mileage16.36 kmpl', 'Mileage15.8 kmpl',\n",
       "       'Mileage17.45 kmpl', 'Mileage11.29 kmpl', 'Mileage20.52 kmpl',\n",
       "       'Mileage18.0 km/kg', 'Mileage31.79 km/kg', 'Mileage9.17 kmpl',\n",
       "       'Mileage13.73 kmpl', 'Mileage20.8 kmpl', 'Mileage9.0 kmpl',\n",
       "       'Mileage19.3 kmpl', 'Mileage17.0 km/kg', 'Mileage26.21 kmpl',\n",
       "       'Mileage18.1 kmpl', 'Mileage22.9 kmpl', 'Mileage14.94 kmpl',\n",
       "       'Mileage13.38 kmpl', 'Mileage22.95 kmpl', 'Mileage17.9 kmpl',\n",
       "       'Mileage15.0 kmpl', 'Mileage10.1 kmpl', 'Mileage17.41 kmpl',\n",
       "       'Mileage11.5 kmpl', 'Mileage17.03 kmpl', 'Mileage16.95 kmpl',\n",
       "       'Mileage16.2 kmpl', 'Mileage13.9 kmpl', 'Mileage10.0 kmpl',\n",
       "       'Mileage12.4 kmpl', 'Mileage15.81 kmpl', 'Mileage14.21 kmpl',\n",
       "       'Mileage15.15 kmpl', 'Mileage18.12 kmpl', 'Mileage30.46 km/kg',\n",
       "       'Mileage14.7 kmpl', 'Mileage17.05 kmpl', 'Mileage21.94 km/kg',\n",
       "       'Mileage24.52 kmpl', 'Mileage17.57 kmpl', 'Mileage13.14 kmpl',\n",
       "       'Mileage14.84 kmpl', 'Mileage15.5 kmpl', 'Mileage20.58 kmpl',\n",
       "       'Mileage26.2 km/kg', 'Mileage20.63 kmpl', 'Mileage10.26 kmpl',\n",
       "       'Mileage33.44 km/kg', 'Mileage16.98 kmpl', 'Mileage17.2 kmpl',\n",
       "       'Mileage23.26 kmpl', 'Mileage17.97 kmpl', 'Mileage11.36 kmpl',\n",
       "       'Mileage17.99 kmpl', 'Mileage21.13 kmpl', 'Mileage20.68 kmpl',\n",
       "       'Mileage15.04 kmpl', 'Mileage15.26 kmpl', 'Mileage13.49 kmpl',\n",
       "       'Mileage11.57 kmpl', 'Mileage19.12 kmpl', 'Mileage15.17 kmpl',\n",
       "       'Mileage22.05 kmpl', 'Mileage11.8 kmpl', 'Mileage18.48 kmpl',\n",
       "       'Mileage19.2 kmpl', 'Mileage13.93 kmpl', 'Mileage15.1 km/kg',\n",
       "       'Mileage16.93 kmpl', 'Mileage18.25 kmpl', 'Mileage19.49 kmpl',\n",
       "       'Mileage21.1 km/kg', 'Mileage26.32 kmpl', 'Mileage13.8 kmpl',\n",
       "       'Mileage19.83 kmpl', 'Mileage22.37 kmpl', 'Mileage9.5 kmpl',\n",
       "       'Mileage11.72 kmpl', 'Mileage19.16 kmpl', 'Mileage16.7 kmpl',\n",
       "       'Mileage27.3 kmpl', 'Mileage19.5 kmpl', 'Mileage19.62 kmpl',\n",
       "       'Mileage21.66 kmpl', 'Mileage22.27 kmpl', 'Mileage32.52 km/kg',\n",
       "       'Mileage21.04 kmpl', 'Mileage11.3 kmpl', 'Mileage15.74 kmpl',\n",
       "       'Mileage10.5 kmpl', 'Mileage18.69 kmpl', 'Mileage19.68 kmpl',\n",
       "       'Mileage20.0 km/kg', 'Mileage17.66 kmpl', 'Mileage12.0 kmpl',\n",
       "       'Mileage15.29 kmpl', 'Mileage14.3 kmpl', 'Mileage23.03 kmpl',\n",
       "       'Mileage15.7 kmpl', 'Mileage23.2 kmpl', 'Mileage16.02 kmpl',\n",
       "       'Mileage15.64 kmpl', 'Mileage15.85 kmpl', 'Mileage19.69 kmpl',\n",
       "       'Mileage16.5 kmpl', 'Mileage22.48 kmpl', 'Mileage15.2 kmpl',\n",
       "       'Mileage14.95 kmpl', 'Mileage17.3 km/kg', 'Mileage22.71 kmpl',\n",
       "       'Mileage14.62 kmpl', 'Mileage18.3 kmpl', 'Mileage23.7 kmpl',\n",
       "       'Mileage17.67 kmpl', 'Mileage12.7 kmpl', 'Mileage10.75 kmpl',\n",
       "       'Mileage19.98 kmpl', 'Mileage20.65 kmpl', 'Mileage21.38 kmpl',\n",
       "       'Mileage13.2 km/kg', 'Mileage20.28 kmpl', 'Mileage11.33 kmpl',\n",
       "       'Mileage17.11 kmpl', 'Mileage17.88 kmpl', 'Mileage22.15 kmpl',\n",
       "       'Mileage11.1 kmpl', 'Mileage21.2 kmpl', 'Mileage8.45 kmpl',\n",
       "       'Mileage20.41 kmpl', 'Mileage21.14 kmpl', 'Mileage9.52 kmpl',\n",
       "       'Mileage24.2 kmpl', 'Mileage18.8 kmpl', 'Mileage16.25 kmpl',\n",
       "       'Mileage18.88 kmpl', 'Mileage20.34 kmpl', 'Mileage16.51 kmpl',\n",
       "       'Mileage11.79 kmpl', 'Mileage16.3 kmpl', 'Mileage11.7 kmpl',\n",
       "       'Mileage25.5 kmpl', 'Mileage11.88 km/kg', 'Mileage18.9 km/kg',\n",
       "       'Mileage12.5 kmpl', 'Mileage19.72 kmpl', 'Mileage14.23 kmpl',\n",
       "       'Mileage14.1 kmpl', 'Mileage14.12 kmpl', 'Mileage13.55 kmpl',\n",
       "       'Mileage11.25 kmpl', 'Mileage12.37 kmpl', 'Mileage14.9 kmpl',\n",
       "       'Mileage13.33 kmpl', 'Mileage13.4 kmpl', 'Mileage16.38 kmpl',\n",
       "       'Mileage11.68 kmpl', 'Mileage13.96 kmpl', 'Mileage19.56 kmpl',\n",
       "       'Mileage11.0 kmpl', 'Mileage10.2 kmpl', 'Mileage15.9 kmpl',\n",
       "       'Mileage27.62 kmpl', 'Mileage19.95 kmpl', 'Mileage13.1 kmpl',\n",
       "       'Mileage20.46 kmpl', 'Mileage12.39 kmpl', 'Mileage27.4 kmpl',\n",
       "       'Mileage11.18 kmpl', 'Mileage13.3 km/kg', 'Mileage18.23 kmpl',\n",
       "       'Mileage22.8 km/kg', 'Mileage14.59 kmpl', 'Mileage18.19 kmpl',\n",
       "       'Mileage14.8 kmpl', 'Mileage23.8 kmpl', 'Mileage19.33 kmpl',\n",
       "       'Mileage20.64 kmpl', 'Mileage26.83 km/kg', 'Mileage19.0 km/kg',\n",
       "       'Mileage26.1 kmpl', 'Mileage17.5 km/kg', 'Mileage14.67 kmpl',\n",
       "       'Mileage19.59 kmpl', 'Mileage12.81 kmpl', 'Mileage13.58 kmpl',\n",
       "       'Mileage26.8 kmpl', 'Mileage13.24 kmpl', 'Mileage10.8 kmpl',\n",
       "       'Mileage14.39 kmpl', 'Mileage18.56 kmpl', 'Mileage26.08 km/kg',\n",
       "       'Mileage12.98 kmpl', 'Mileage18.24 kmpl', 'Mileage12.83 kmpl',\n",
       "       'Mileage18.53 kmpl', 'Mileage12.1 kmpl', 'Mileage20.86 kmpl',\n",
       "       'Mileage24.5 kmpl', 'Mileage7.81 kmpl', 'Mileage26.55 km/kg',\n",
       "       'Mileage15.3 km/kg', 'Mileage13.45 km/kg', 'Mileage18.51 kmpl',\n",
       "       'Mileage19.16 km/hr', 'Mileage30.48 km/kg', 'Mileage20.38 kmpl',\n",
       "       'Mileage21.3 kmpl', 'Mileage14.04 kmpl', 'Mileage17.32 kmpl',\n",
       "       'Mileage18.4 kmpl', 'Mileage14.83 kmpl', 'Mileage16.8 km/kg',\n",
       "       'Mileage20.04 kmpl', 'Mileage30.47 km/kg', 'Mileage15.4 km/kg',\n",
       "       'Mileage12.97 kmpl', 'Mileage16.4 kmpl', 'Mileage14.2 kmpl',\n",
       "       'Mileage16.07 kmpl', 'Mileage14.24 kmpl', 'Mileage21.03 kmpl',\n",
       "       'Mileage25.01 kmpl', 'Mileage14.69 kmpl', 'Mileage21.76 kmpl',\n",
       "       'Mileage21.49 kmpl', 'Mileage21.27 kmpl', 'Mileage14.71 kmpl',\n",
       "       'Mileage11.49 kmpl', 'Mileage21.56 kmpl', 'Mileage19.71 kmpl',\n",
       "       'Mileage17.42 kmpl', 'Mileage16.73 kmpl', 'Mileage16.11 kmpl',\n",
       "       'Mileage11.45 kmpl', 'Mileage18.44 kmpl', 'Mileage14.5 kmpl',\n",
       "       'Mileage19.02 kmpl', 'Mileage14.75 kmpl', 'Mileage25.6 kmpl',\n",
       "       'Mileage24.07 kmpl', 'Mileage23.57 kmpl', 'Mileage10.13 kmpl',\n",
       "       'Mileage16.05 kmpl', 'Mileage10.93 kmpl', 'Mileage24.12 kmpl',\n",
       "       'Mileage24.8 kmpl', 'Mileage16.0 km/kg', 'Mileage21.02 kmpl',\n",
       "       'Mileage12.35 kmpl', 'Mileage20.2 kmpl', 'Mileage21.74 kmpl',\n",
       "       'Mileage15.63 kmpl', 'Mileage14.6 kmpl', 'Mileage15.42 kmpl',\n",
       "       'Mileage14.74 kmpl', 'Mileage15.34 kmpl', 'Mileage6.4 kmpl',\n",
       "       'Mileage14.47 kmpl', 'Mileage24.29 kmpl', 'Mileage14.16 kmpl',\n",
       "       'Mileage12.12 kmpl', 'Mileage16.77 kmpl', 'Mileage19.61 kmpl',\n",
       "       'Mileage18.33 kmpl', 'Mileage22.1 km/kg', 'Mileage13.04 kmpl',\n",
       "       'Mileage14.19 kmpl', 'Mileage15.11 kmpl', 'Mileage16.52 kmpl',\n",
       "       'Mileage18.76 kmpl', 'Mileage10.9 km/kg', 'Mileage13.44 kmpl',\n",
       "       'Mileage17.09 kmpl', 'Mileage16.46 kmpl', 'Mileage9.43 kmpl',\n",
       "       'Mileage13.79 kmpl', 'Mileage16.65 kmpl', 'Mileage8.0 kmpl',\n",
       "       'Mileage16.96 kmpl', 'Mileage20.88 km/kg', 'Mileage15.87 kmpl',\n",
       "       'Mileage15.97 kmpl', 'Mileage4.0 kmpl', 'Mileage14.07 kmpl',\n",
       "       'Mileage9.26 kmpl', 'Mileage12.65 kmpl', 'Mileage23.3 kmpl',\n",
       "       'Mileage10.34 kmpl', 'Mileage20.35 kmpl', 'Mileage14.42 kmpl',\n",
       "       'Mileage15.9 km/kg', 'Mileage17.72 kmpl', 'Mileage20.71 kmpl',\n",
       "       'Mileage9.8 kmpl', 'Mileage21.8 kmpl', 'Mileage12.4 km/kg',\n",
       "       'Mileage19.39 kmpl', 'Mileage14.09 kmpl', 'Mileage11.2 kmpl',\n",
       "       'Mileage14.6 km/kg', 'Mileage10.9 kmpl', 'Mileage21.58 kmpl',\n",
       "       'Mileage21.72 kmpl', 'Mileage32.26 km/kg', 'Mileage16.6 km/kg',\n",
       "       'Mileage7.5 kmpl', 'Mileage16.34 kmpl', 'Mileage23.87 kmpl',\n",
       "       'Mileage17.15 kmpl', 'Mileage11.9 kmpl', 'Mileage12.08 kmpl',\n",
       "       'Mileage19.23 kmpl', 'Mileage14.56 kmpl', 'Mileage14.81 kmpl',\n",
       "       'Mileage21.73 kmpl', 'Mileage23.19 kmpl', 'Mileage11.56 kmpl',\n",
       "       'Mileage17.8 km/kg', 'Mileage26.82 kmpl', 'Mileage12.51 kmpl',\n",
       "       'Mileage15.68 kmpl', 'Mileage13.22 kmpl', 'Mileage15.06 kmpl',\n",
       "       'Mileage14.57 kmpl', 'Mileage10.3 kmpl', 'Mileage9.3 kmpl',\n",
       "       'Mileage24.1 kmpl', 'Mileage12.6 kmpl', 'Mileage8.6 kmpl',\n",
       "       'Mileage19.2 km/kg', 'Mileage9.1 kmpl', 'Mileage25.0 km/kg',\n",
       "       'Mileage9.74 kmpl', 'Mileage11.96 kmpl', 'Mileage9.9 kmpl',\n",
       "       'Mileage19.05 kmpl', 'Mileage12.62 kmpl', 'Mileage10.37 kmpl',\n",
       "       'Mileage11.81 kmpl', 'Mileage18.32 kmpl', 'Mileage19.91 kmpl',\n",
       "       'Mileage18.57 kmpl', 'Mileage15.41 kmpl', 'Mileage110.0 km/hr',\n",
       "       'Mileage8.9 kmpl', 'Mileage14.11 kmpl', 'Mileage8.5 kmpl',\n",
       "       'Mileage23.91 kmpl', 'Mileage15.05 kmpl', 'Mileage14.08 kmpl',\n",
       "       'Mileage7.94 kmpl', 'Mileage9.4 kmpl', 'Mileage10.6 kmpl',\n",
       "       'Mileage13.87 kmpl', 'Mileage12.28 kmpl', 'Mileage11.78 kmpl',\n",
       "       'Mileage6.0 kmpl', 'Mileage26.8 km/kg', 'Mileage17.54 kmpl',\n",
       "       'Mileage11.31 kmpl', 'Mileage17.85 kmpl', 'Mileage14.38 kmpl',\n",
       "       'Mileage10.4 kmpl', 'Mileage18.97 kmpl', 'Mileage15.01 kmpl',\n",
       "       'Mileage17.24 kmpl', 'Mileage13.29 kmpl', 'Mileage16.28 kmpl',\n",
       "       'Mileage19.19 kmpl', 'Mileage20.6 kmpl', 'Mileage8.77 kmpl',\n",
       "       'Mileage120.0 km/hr', 'Mileage17.61 kmpl', 'Mileage18.42 kmpl',\n",
       "       'Mileage17.36 kmpl', 'Mileage12.95 kmpl', 'Mileage14.99 kmpl',\n",
       "       'Mileage13.17 kmpl', 'Mileage15.92 kmpl', 'Mileage10.71 kmpl',\n",
       "       'Mileage17.69 kmpl', 'Mileage16.12 kmpl', 'Mileage18.84 kmpl',\n",
       "       'Mileage10.98 kmpl', 'Mileage19.65 kmpl', 'Mileage25.4 km/kg',\n",
       "       'Mileage17.74 kmpl', 'Mileage17.18 kmpl', 'Mileage14.53 km/kg',\n",
       "       'Mileage19.15 kmpl', 'Mileage13.53 kmpl', 'Mileage18.15 km/kg'],\n",
       "      dtype=object)"
      ]
     },
     "execution_count": 16,
     "metadata": {},
     "output_type": "execute_result"
    }
   ],
   "source": [
    "car['mileage'].unique()"
   ]
  },
  {
   "cell_type": "code",
   "execution_count": 17,
   "id": "d132853d",
   "metadata": {},
   "outputs": [
    {
     "data": {
      "text/plain": [
       "array(['Engine796 CC', 'Engine1197 CC', 'Engine998 CC', 'Engine1498 CC',\n",
       "       'Engine1493 CC', 'Engine1405 CC', 'Engine1461 CC', 'Engine1198 CC',\n",
       "       'Engine1582 CC', 'Engine1998 CC', 'Engine1248 CC', 'Engine2143 CC',\n",
       "       'Engine2494 CC', 'Engine1598 CC', 'Engine2179 CC', 'Engine1497 CC',\n",
       "       'Engine2523 CC', 'Engine2982 CC', 'Engine999 CC', 'Engine1199 CC',\n",
       "       'Engine1086 CC', 'Engine2498 CC', 'Engine1396 CC', 'Engine1817 CC',\n",
       "       'Engine624 CC', 'Engine1496 CC', 'Engine1590 CC', 'Engine1798 CC',\n",
       "       'Engine1186 CC', 'Engine1794 CC', 'Engine1997 CC', 'Engine1120 CC',\n",
       "       'Engine1196 CC', 'Engine1061 CC', 'Engine909 CC', 'Engine799 CC',\n",
       "       'Engine1796 CC', 'Engine936 CC', 'Engine1364 CC', 'Engine2199 CC',\n",
       "       'Engine2993 CC', 'Engine1298 CC', 'Engine3198 CC', 'Engine1399 CC',\n",
       "       'Engine2477 CC', 'Engine1995 CC', 'Engine2956 CC', 'Engine1373 CC',\n",
       "       'Engine1591 CC', 'Engine2354 CC', 'Engine1968 CC', 'Engine1047 CC',\n",
       "       'Engine1353 CC', 'Engine1991 CC', 'Engine2755 CC', 'Engine1395 CC',\n",
       "       'Engine1193 CC', 'Engine1896 CC', 'Engine1999 CC', 'Engine2953 CC',\n",
       "       'Engine2393 CC', 'Engine2967 CC', 'Engine2998 CC', 'Engine2995 CC',\n",
       "       'Engine2694 CC', 'Engine4461 CC', 'Engine1586 CC', 'Engine6752 CC',\n",
       "       'Engine1956 CC', 'Engine1462 CC', 'Engine814 CC', 'Engine995 CC',\n",
       "       'Engine1799 CC', 'Engine2499 CC', 'Engine1451 CC', 'Engine1194 CC',\n",
       "       'Engine1969 CC', 'Engine2400 CC', nan, 'Engine993 CC',\n",
       "       'Engine1150 CC', 'Engine1299 CC', 'Engine1495 CC', 'Engine2487 CC',\n",
       "       'Engine3604 CC', 'Engine1499 CC', 'Engine2987 CC', 'Engine970 CC',\n",
       "       'Engine1489 CC', 'Engine1599 CC', 'Engine2835 CC', 'Engine1172 CC',\n",
       "       'Engine1950 CC', 'Engine2489 CC', 'Engine2148 CC', 'Engine4134 CC',\n",
       "       'Engine4951 CC', 'Engine1984 CC', 'Engine2979 CC', 'Engine2609 CC',\n",
       "       'Engine1242 CC', 'Engine1390 CC', 'Engine2092 CC', 'Engine2997 CC',\n",
       "       'Engine1368 CC', 'Engine5998 CC', 'Engine1330 CC', 'Engine2359 CC',\n",
       "       'Engine2200 CC', 'Engine1596 CC', 'Engine3598 CC', 'Engine2362 CC',\n",
       "       'Engine793 CC', 'Engine2696 CC', 'Engine2112 CC', 'Engine3597 CC',\n",
       "       'Engine1388 CC', 'Engine72 CC', 'Engine2360 CC', 'Engine5461 CC',\n",
       "       'Engine1343 CC', 'Engine2446 CC', 'Engine2497 CC', 'Engine1595 CC',\n",
       "       'Engine4367 CC', 'Engine3498 CC', 'Engine2776 CC', 'Engine1797 CC',\n",
       "       'Engine1422 CC', 'Engine1985 CC', 'Engine1948 CC', 'Engine2698 CC',\n",
       "       'Engine5204 CC', 'Engine2231 CC', 'Engine2999 CC', 'Engine1173 CC',\n",
       "       'Engine1108 CC', 'Engine3855 CC', 'Engine2197 CC', 'Engine1341 CC',\n",
       "       'Engine1994 CC', 'Engine2902 CC', 'Engine1389 CC', 'Engine4806 CC',\n",
       "       'Engine1468 CC', 'Engine3189 CC', 'Engine2147 CC', 'Engine4999 CC',\n",
       "       'Engine1597 CC', 'Engine3200 CC', 'Engine2771 CC', 'Engine2157 CC',\n",
       "       'Engine2706 CC', 'Engine2349 CC', 'Engine3436 CC', 'Engine3628 CC',\n",
       "       'Engine2198 CC', 'Engine2996 CC', 'Engine4395 CC', 'Engine2000 CC',\n",
       "       'Engine3456 CC', 'Engine4663 CC', 'Engine2773 CC', 'Engine6592 CC',\n",
       "       'Engine2184 CC', 'Engine2495 CC', 'Engine1781 CC', 'Engine4163 CC',\n",
       "       'Engine2453 CC', 'Engine2596 CC'], dtype=object)"
      ]
     },
     "execution_count": 17,
     "metadata": {},
     "output_type": "execute_result"
    }
   ],
   "source": [
    "car['engine'].unique()"
   ]
  },
  {
   "cell_type": "code",
   "execution_count": 18,
   "id": "9509be53",
   "metadata": {},
   "outputs": [
    {
     "data": {
      "text/plain": [
       "array(['Max Power46.3 bhp', 'Max Power82 bhp', 'Max Power80 bhp',\n",
       "       'Max Power67.1 bhp', 'Max Power98.59 bhp', 'Max Power78.9 bhp',\n",
       "       'Max Power67.04 bhp', 'Max Power118.35 bhp', 'Max Power100 bhp',\n",
       "       'Max Power69.01 bhp', 'Max Power108.49 bhp', 'Max Power85 bhp',\n",
       "       'Max Power76 bhp', 'Max Power126.32 bhp', 'Max Power108.45 bhp',\n",
       "       'Max Power189.08 bhp', 'Max Power88.5 bhp', 'Max Power74 bhp',\n",
       "       'Max Power170 bhp', 'Max Power100.6 bhp', 'Max Power83.1 bhp',\n",
       "       'Max Power83.14 bhp', 'Max Power103.2 bhp', 'Max Power126.2 bhp',\n",
       "       'Max Power118.3 bhp', 'Max Power117.3 bhp', 'Max Power63 bhp',\n",
       "       'Max Power78 bhp', 'Max Power81.86 bhp', 'Max Power168.5 bhp',\n",
       "       'Max Power67 bhp', 'Max Power88.76 bhp', 'Max Power62.1 bhp',\n",
       "       'Max Power140 bhp', 'Max Power112 bhp', 'Max Power88.73 bhp',\n",
       "       'Max Power81.83 bhp', 'Max Power37 bhp', 'Max Power69 bhp',\n",
       "       'Max Power91.7 bhp', 'Max Power75 bhp', nan, 'Max Power74.96 bhp',\n",
       "       'Max Power35 bhp', 'Max Power94 bhp', 'Max Power81.80 bhp',\n",
       "       'Max Power138.1 bhp', 'Max Power58.16 bhp', 'Max Power68 bhp',\n",
       "       'Max Power126.3 bhp', 'Max Power70 bhp', 'Max Power73.97 bhp',\n",
       "       'Max Power34.2 bhp', 'Max Power120 bhp', 'Max Power103.6 bhp',\n",
       "       'Max Power121 bhp', 'Max Power113.42 bhp', 'Max Power152.87 bhp',\n",
       "       'Max Power86.8 bhp', 'Max Power86.7 bhp', 'Max Power64 bhp',\n",
       "       'Max Power45 bhp', 'Max Power116.3 bhp', 'Max Power53.3 bhp',\n",
       "       'Max Power82.9 bhp', 'Max Power84 bhp', 'Max Power186 bhp',\n",
       "       'Max Power98.6 bhp', 'Max Power113.4 bhp', 'Max Power47.3 bhp',\n",
       "       'Max Power90 bhp', 'Max Power56.3 bhp', 'Max Power85.8 bhp',\n",
       "       'Max Power67.05 bhp', 'Max Power73.9 bhp', 'Max Power82.85 bhp',\n",
       "       'Max Power98.96 bhp', 'Max Power83.8 bhp', 'Max Power194.3 bhp',\n",
       "       'Max Power68.05 bhp', 'Max Power261.49 bhp', 'Max Power76.8 bhp',\n",
       "       'Max Power74.02 bhp', 'Max Power99 bhp', 'Max Power153.86 bhp',\n",
       "       'Max Power197 bhp', 'Max Power77 bhp', 'Max Power92.7 bhp',\n",
       "       'Max Power88.7 bhp', 'Max Power61.7 bhp', 'Max Power82.4 bhp',\n",
       "       'Max Power175.56 bhp', 'Max Power190 bhp', 'Max Power85.80 bhp',\n",
       "       'Max Power83.83 bhp', 'Max Power91.1 bhp', 'Max Power121.3 bhp',\n",
       "       'Max Power177.6 bhp', 'Max Power118 bhp', 'Max Power188 bhp',\n",
       "       'Max Power147.51 bhp', 'Max Power88.8 bhp', 'Max Power138 bhp',\n",
       "       'Max Power105.5 bhp', 'Max Power174.33 bhp', 'Max Power88.50 bhp',\n",
       "       'Max Power84.8 bhp', 'Max Power63.1 bhp', 'Max Power67.06 bhp',\n",
       "       'Max Power375.48 bhp', 'Max Power87.2 bhp', 'Max Power53.26 bhp',\n",
       "       'Max Power174.5 bhp', 'Max Power115 bhp', 'Max Power105 bhp',\n",
       "       'Max Power71 bhp', 'Max Power89.84 bhp', 'Max Power56 bhp',\n",
       "       'Max Power117.6 bhp', 'Max Power64.4 bhp', 'Max Power138.03 bhp',\n",
       "       'Max Power91.72 bhp', 'Max Power177 bhp', 'Max Power88.51 bhp',\n",
       "       'Max Power73 bhp', 'Max Power108.5 bhp', 'Max Power185 bhp',\n",
       "       'Max Power237.36 bhp', 'Max Power241.4 bhp', 'Max Power57.6 bhp',\n",
       "       'Max Power83.11 bhp', 'Max Power79.4 bhp', 'Max Power335 bhp',\n",
       "       'Max Power58.33 bhp', 'Max Power335.25 bhp', 'Max Power148 bhp',\n",
       "       'Max Power163.05 bhp', 'Max Power254.7 bhp', 'Max Power285.4 bhp',\n",
       "       'Max Power123.24 bhp', 'Max Power187.7 bhp', 'Max Power204 bhp',\n",
       "       'Max Power265 bhp', 'Max Power136 bhp', 'Max Power104.68 bhp',\n",
       "       'Max Power53 bhp', 'Max Power505 bhp', 'Max Power167.68 bhp',\n",
       "       'Max Power171 bhp', 'Max Power121.36 bhp', 'Max Power103.26 bhp',\n",
       "       'Max Power97.6 bhp', 'Max Power147.8 bhp', 'Max Power55.2 bhp',\n",
       "       'Max Power73.75 bhp', 'Max Power201.15 bhp', 'Max Power62 bhp',\n",
       "       'Max Power130.2 bhp', 'Max Power175.6 bhp', 'Max Power134 bhp',\n",
       "       'Max Power103 bhp', 'Max Power141 bhp', 'Max Power203 bhp',\n",
       "       'Max Power110 bhp', 'Max Power240 bhp', 'Max Power184 bhp',\n",
       "       'Max Power168.7 bhp', 'Max Power103.52 bhp', 'Max Power94.68 bhp',\n",
       "       'Max Power157.8 bhp', 'Max Power147.9 bhp', 'Max Power103.3 bhp',\n",
       "       'Max Power143 bhp', 'Max Power58.2 bhp', 'Max Power65.3 bhp',\n",
       "       'Max Power163.7 bhp', 'Max Power120.69 bhp', 'Max Power40.3 bhp',\n",
       "       'Max Power66.1 bhp', 'Max Power147.5 bhp', 'Max Power215 bhp',\n",
       "       'Max Power99.6 bhp', 'Max Power171.5 bhp', 'Max Power108.6 bhp',\n",
       "       'Max Power183 bhp', 'Max Power103.5 bhp', 'Max Power91.2 bhp',\n",
       "       'Max Power53.64 bhp', 'Max Power181 bhp', 'Max Power241.6 bhp',\n",
       "       'Max Power37.5 bhp', 'Max Power53.5 bhp', 'Max Power187.74 bhp',\n",
       "       'Max Power60 bhp', 'Max Power93.87 bhp', 'Max Power74.9 bhp',\n",
       "       'Max Power214.56 bhp', 'Max Power280 bhp', 'Max Power214.5 bhp',\n",
       "       'Max Power126.24 bhp', 'Max Power74.93 bhp', 'Max Power108.62 bhp',\n",
       "       'Max Power254.8 bhp', 'Max Power63.9 bhp', 'Max Power107.2 bhp',\n",
       "       'Max Power167.62 bhp', 'Max Power355.37 bhp', 'Max Power187.4 bhp',\n",
       "       'Max Power118.6 bhp', 'Max Power73.94 bhp', 'Max Power191.7 bhp',\n",
       "       'Max Power152 bhp', 'Max Power63.12 bhp', 'Max Power93.7 bhp',\n",
       "       'Max Power64.1 bhp', 'Max Power110.4 bhp', 'Max Power258 bhp',\n",
       "       'Max Power88.2 bhp', 'Max Power140.8 bhp', 'Max Power57.5 bhp',\n",
       "       'Max Power149.92 bhp', 'Max Power138.08 bhp', 'Max Power88 bhp',\n",
       "       'Max Power224 bhp', 'Max Power68.1 bhp', 'Max Power60.2 bhp',\n",
       "       'Max Power103.25 bhp', 'Max Power335.2 bhp', 'Max Power395 bhp',\n",
       "       'Max Power48.21 bhp', 'Max Power200 bhp', 'Max Power241.3 bhp',\n",
       "       'Max Power321 bhp', 'Max Power271 bhp', 'Max Power127 bhp',\n",
       "       'Max Power52.8 bhp', 'Max Power313 bhp', 'Max Power218 bhp',\n",
       "       'Max Power102 bhp', 'Max Power68.07 bhp', 'Max Power145 bhp',\n",
       "       'Max Power157.7 bhp', 'Max Power72 bhp', 'Max Power119.35 bhp',\n",
       "       'Max Power121.31 bhp', 'Max Power626 bhp', 'Max Power130 bhp',\n",
       "       'Max Power197.2 bhp', 'Max Power420 bhp', 'Max Power107.3 bhp',\n",
       "       'Max Power147.94 bhp', 'Max Power37.48 bhp', 'Max Power153.87 bhp',\n",
       "       'Max Power254.79 bhp', 'Max Power177.46 bhp',\n",
       "       'Max Power198.25 bhp', 'Max Power139.01 bhp', 'Max Power101 bhp',\n",
       "       'Max Power142 bhp', 'Max Power300 bhp', 'Max Power164.7 bhp',\n",
       "       'Max Power180 bhp', 'Max Power121.4 bhp', 'Max Power97.7 bhp',\n",
       "       'Max Power78.8 bhp', 'Max Power95 bhp', 'Max Power47 bhp',\n",
       "       'Max Power98.63 bhp', 'Max Power169 bhp', 'Max Power94.93 bhp',\n",
       "       'Max Power73.74 bhp', 'Max Power80.9 bhp', 'Max Power178 bhp',\n",
       "       'Max Power66.6 bhp', 'Max Power93 bhp', 'Max Power98.82 bhp',\n",
       "       'Max Power160 bhp', 'Max Power139.46 bhp', 'Max Power160.77 bhp',\n",
       "       'Max Power271.23 bhp', 'Max Power38.4 bhp', 'Max Power99.23 bhp',\n",
       "       'Max Power80.46 bhp', 'Max Power148.31 bhp', 'Max Power106 bhp',\n",
       "       'Max Power72.4 bhp', 'Max Power102.5 bhp', 'Max Power132 bhp',\n",
       "       'Max Power201.1 bhp', 'Max Power260.0 bhp', 'Max Power189 bhp',\n",
       "       'Max Power125 bhp', 'Max Power168 bhp', 'Max Power167.6 bhp',\n",
       "       'Max Power41.57 bhp', 'Max Power91.19 bhp', 'Max Power178.4 bhp',\n",
       "       'Max Power134.1 bhp', 'Max Power162 bhp', 'Max Power141.1 bhp',\n",
       "       'Max Power177.5 bhp', 'Max Power362.9 bhp', 'Max Power76.9 bhp',\n",
       "       'Max Power65 bhp', 'Max Power282 bhp', 'Max Power58 bhp',\n",
       "       'Max Power83.81 bhp', 'Max Power165 bhp', 'Max Power150 bhp',\n",
       "       'Max Power70.02 bhp', 'Max Power73.8 bhp', 'Max Power89.75 bhp',\n",
       "       'Max Power120.33 bhp', 'Max Power252 bhp', 'Max Power158.2 bhp',\n",
       "       'Max Power192 bhp', 'Max Power335.3 bhp', 'Max Power306 bhp',\n",
       "       'Max Power175 bhp', 'Max Power72.42 bhp', 'Max Power157.75 bhp',\n",
       "       'Max Power245 bhp', 'Max Power97.9 bhp', 'Max Power270.88 bhp',\n",
       "       'Max Power100.57 bhp', 'Max Power116.4 bhp', 'Max Power203.2 bhp',\n",
       "       'Max Power364.9 bhp', 'Max Power92 bhp', 'Max Power55 bhp',\n",
       "       'Max Power194 bhp', 'Max Power123.37 bhp', 'Max Power71.01 bhp',\n",
       "       'Max Power102.57 bhp', 'Max Power59 bhp', 'Max Power40.23 bhp',\n",
       "       'Max Power181.03 bhp', 'Max Power120.7 bhp', 'Max Power170.30 bhp',\n",
       "       'Max Power163 bhp', 'Max Power272 bhp', 'Max Power235 bhp',\n",
       "       'Max Power181.04 bhp', 'Max Power138.13 bhp', 'Max Power248 bhp',\n",
       "       'Max Power179.5 bhp', 'Max Power66 bhp', 'Max Power560 bhp',\n",
       "       'Max Power301.73 bhp', 'Max Power174.3 bhp',\n",
       "       'Max Power108.495 bhp', 'Max Power104.55 bhp',\n",
       "       'Max Power167.7 bhp', 'Max Power85.7 bhp', 'Max Power173 bhp',\n",
       "       'Max Power104.5 bhp', 'Max Power178.3 bhp', 'Max Power64.08 bhp',\n",
       "       'Max Power123.7 bhp', 'Max Power120.6 bhp', 'Max Power154 bhp',\n",
       "       'Max Power246.7 bhp', 'Max Power105.94 bhp', 'Max Power244.1 bhp',\n",
       "       'Max Power429 bhp', 'Max Power237.4 bhp', 'Max Power210 bhp',\n",
       "       'Max Power271.2 bhp', 'Max Power198.5 bhp', 'Max Power99.61 bhp',\n",
       "       'Max Power135.1 bhp', 'Max Power75.6 bhp', 'Max Power308.43 bhp',\n",
       "       'Max Power270.9 bhp', 'Max Power249 bhp', 'Max Power116.6 bhp',\n",
       "       'Max Power57 bhp', 'Max Power601 bhp', 'Max Power301.8 bhp',\n",
       "       'Max Power255 bhp', 'Max Power261.4 bhp', 'Max Power38 bhp',\n",
       "       'Max Power112.4 bhp', 'Max Power328.5 bhp', 'Max Power83 bhp',\n",
       "       'Max Power104 bhp', 'Max Power147.6 bhp', 'Max Power98.79 bhp',\n",
       "       'Max Power105.3 bhp', 'Max Power155 bhp', 'Max Power108 bhp',\n",
       "       'Max Power61.6 bhp', 'Max Power35.5 bhp', 'Max Power122.4 bhp',\n",
       "       'Max Power100.5 bhp', 'Max Power394.3 bhp', 'Max Power189.3 bhp',\n",
       "       'Max Power144 bhp', 'Max Power246 bhp', 'Max Power161 bhp',\n",
       "       'Max Power109 bhp', 'Max Power507 bhp', 'Max Power98 bhp',\n",
       "       'Max Power375.5 bhp', 'Max Power170.6 bhp', 'Max Power167.67 bhp',\n",
       "       'Max Power199.3 bhp', 'Max Power130.3 bhp', 'Max Power241.38 bhp',\n",
       "       'Max Power139 bhp', 'Max Power193.1 bhp', 'Max Power97.89 bhp',\n",
       "       'Max Power178.49 bhp', 'Max Power134.10 bhp', 'Max Power161.6 bhp',\n",
       "       'Max Power52 bhp', 'Max Power98.97 bhp', 'Max Power86.79 bhp',\n",
       "       'Max Power84.48 bhp', 'Max Power170.63 bhp', 'Max Power82.5 bhp',\n",
       "       'Max Power208 bhp', 'Max Power271.72 bhp', 'Max Power112.44 bhp',\n",
       "       'Max Power308 bhp', 'Max Power84.82 bhp', 'Max Power158 bhp',\n",
       "       'Max Power76.43 bhp', 'Max Power68.4 bhp', 'Max Power61 bhp',\n",
       "       'Max Power301.72 bhp', 'Max Power221.3 bhp', 'Max Power147.4 bhp',\n",
       "       'Max Power25.4 bhp', 'Max Power333 bhp', 'Max Power500 bhp',\n",
       "       'Max Power97.8 bhp', 'Max Power315 bhp', 'Max Power182.46 bhp',\n",
       "       'Max Power362.07 bhp', 'Max Power440 bhp', 'Max Power58.3 bhp',\n",
       "       'Max Power388 bhp', 'Max Power450 bhp', 'Max Power362 bhp',\n",
       "       'Max Power250 bhp', 'Max Power258.81 bhp', 'Max Power459 bhp',\n",
       "       'Max Power151.89 bhp', 'Max Power113.98 bhp', 'Max Power600 bhp',\n",
       "       'Max Power59.18 bhp', 'Max Power360 bhp', 'Max Power246.74 bhp',\n",
       "       'Max Power245.4 bhp', 'Max Power197.13 bhp', 'Max Power158.8 bhp',\n",
       "       'Max Power355.4 bhp', 'Max Power261.5 bhp', 'Max Power236 bhp',\n",
       "       'Max Power340 bhp', 'Max Power97.90 bhp', 'Max Power194.4 bhp',\n",
       "       'Max Power201 bhp', 'Max Power103.56 bhp', 'Max Power65.39 bhp',\n",
       "       'Max Power563 bhp', 'Max Power296 bhp', 'Max Power248.08 bhp',\n",
       "       'Max Power163.2 bhp', 'Max Power156 bhp', 'Max Power75.94 bhp',\n",
       "       'Max Power207 bhp', 'Max Power64.9 bhp', 'Max Power385 bhp',\n",
       "       'Max Power423.7 bhp', 'Max Power402 bhp', 'Max Power25.5 bhp',\n",
       "       'Max Power114 bhp', 'Max Power231.1 bhp', 'Max Power174.57 bhp',\n",
       "       'Max Power152.88 bhp', 'Max Power552 bhp', 'Max Power575 bhp',\n",
       "       'Max Power80.8 bhp', 'Max Power241 bhp', 'Max Power130.1 bhp',\n",
       "       'Max Power119.3 bhp', 'Max Power114.4 bhp', 'Max Power86.80 bhp',\n",
       "       'Max Power259 bhp', 'Max Power75.10 bhp', 'Max Power349.5 bhp',\n",
       "       'Max Power177.01 bhp'], dtype=object)"
      ]
     },
     "execution_count": 18,
     "metadata": {},
     "output_type": "execute_result"
    }
   ],
   "source": [
    "car['max_power'].unique()"
   ]
  },
  {
   "cell_type": "code",
   "execution_count": 19,
   "id": "707dcaa4",
   "metadata": {},
   "outputs": [
    {
     "data": {
      "text/plain": [
       "array(['Seats5', 'Seats7', 'Seats8', 'Seats4', 'Seats6', nan, 'Seats2',\n",
       "       'Seats9', 'Seats10', 'Seats14'], dtype=object)"
      ]
     },
     "execution_count": 19,
     "metadata": {},
     "output_type": "execute_result"
    }
   ],
   "source": [
    "car['seats'].unique()"
   ]
  },
  {
   "cell_type": "code",
   "execution_count": 20,
   "id": "06c6ad58",
   "metadata": {},
   "outputs": [],
   "source": [
    "backup=car.copy()"
   ]
  },
  {
   "cell_type": "code",
   "execution_count": 21,
   "id": "ecef9880",
   "metadata": {},
   "outputs": [],
   "source": [
    "car.dropna(inplace=True)"
   ]
  },
  {
   "cell_type": "code",
   "execution_count": 22,
   "id": "f8236009",
   "metadata": {},
   "outputs": [
    {
     "data": {
      "text/plain": [
       "<bound method DataFrame.info of                                             full_name selling_price  \\\n",
       "1                              Hyundai Grand i10 Asta     5.5 Lakh*   \n",
       "4      Ford Ecosport 2015-2021 1.5 TDCi Titanium BSIV     5.7 Lakh*   \n",
       "5                            Maruti Wagon R VXI BS IV     3.5 Lakh*   \n",
       "6                              Hyundai i10 Sportz 1.2    3.15 Lakh*   \n",
       "7                                  Maruti Wagon R VXI     4.1 Lakh*   \n",
       "...                                               ...           ...   \n",
       "19956                         Maruti Alto 800 CNG LXI    2.75 Lakh*   \n",
       "19957                    Renault KWID Climber 1.0 AMT    4.85 Lakh*   \n",
       "19959                            Maruti Swift AMT VXI     5.9 Lakh*   \n",
       "19961                            Honda Amaze E i-DTEC    5.25 Lakh*   \n",
       "19972                          Mahindra XUV500 W6 2WD   12.25 Lakh*   \n",
       "\n",
       "                                            new_price  year seller_type  \\\n",
       "1        New Car (On-Road Price) : Rs.7.11-7.48 Lakh*  2016  Individual   \n",
       "4      New Car (On-Road Price) : Rs.10.14-13.79 Lakh*  2015      Dealer   \n",
       "5        New Car (On-Road Price) : Rs.5.16-6.94 Lakh*  2013  Individual   \n",
       "6        New Car (On-Road Price) : Rs.6.54-6.63 Lakh*  2013      Dealer   \n",
       "7        New Car (On-Road Price) : Rs.5.26-7.01 Lakh*  2018      Dealer   \n",
       "...                                               ...   ...         ...   \n",
       "19956    New Car (On-Road Price) : Rs.4.98-5.02 Lakh*  2014      Dealer   \n",
       "19957    New Car (On-Road Price) : Rs.4.17-6.85 Lakh*  2017      Dealer   \n",
       "19959    New Car (On-Road Price) : Rs.6.30-9.14 Lakh*  2018  Individual   \n",
       "19961   New Car (On-Road Price) : Rs.9.07-11.76 Lakh*  2015      Dealer   \n",
       "19972  New Car (On-Road Price) : Rs.17.83-24.91 Lakh*  2016      Dealer   \n",
       "\n",
       "           km_driven   owner_type fuel_type transmission_type  \\\n",
       "1         20,000 kms  First Owner    Petrol            Manual   \n",
       "4         30,000 kms  First Owner    Diesel            Manual   \n",
       "5         35,000 kms  First Owner    Petrol            Manual   \n",
       "6         40,000 kms  First Owner    Petrol            Manual   \n",
       "7         17,512 kms  First Owner    Petrol            Manual   \n",
       "...              ...          ...       ...               ...   \n",
       "19956     44,000 kms  First Owner       CNG            Manual   \n",
       "19957     29,847 kms  First Owner    Petrol         Automatic   \n",
       "19959     25,000 kms  First Owner    Petrol         Automatic   \n",
       "19961     28,000 kms  First Owner    Diesel            Manual   \n",
       "19972  38,00,000 kms  First Owner    Diesel            Manual   \n",
       "\n",
       "                  mileage         engine           max_power   seats  \n",
       "1        Mileage18.9 kmpl  Engine1197 CC     Max Power82 bhp  Seats5  \n",
       "4       Mileage22.77 kmpl  Engine1498 CC  Max Power98.59 bhp  Seats5  \n",
       "5        Mileage18.9 kmpl   Engine998 CC   Max Power67.1 bhp  Seats5  \n",
       "6       Mileage20.36 kmpl  Engine1197 CC   Max Power78.9 bhp  Seats5  \n",
       "7       Mileage20.51 kmpl   Engine998 CC  Max Power67.04 bhp  Seats5  \n",
       "...                   ...            ...                 ...     ...  \n",
       "19956  Mileage30.46 km/kg   Engine796 CC   Max Power47.3 bhp  Seats5  \n",
       "19957   Mileage24.04 kmpl   Engine999 CC     Max Power67 bhp  Seats5  \n",
       "19959    Mileage22.0 kmpl  Engine1197 CC  Max Power81.80 bhp  Seats5  \n",
       "19961    Mileage25.8 kmpl  Engine1498 CC   Max Power98.6 bhp  Seats5  \n",
       "19972    Mileage16.0 kmpl  Engine2179 CC    Max Power140 bhp  Seats7  \n",
       "\n",
       "[9441 rows x 13 columns]>"
      ]
     },
     "execution_count": 22,
     "metadata": {},
     "output_type": "execute_result"
    }
   ],
   "source": [
    "car.info"
   ]
  },
  {
   "cell_type": "code",
   "execution_count": 23,
   "id": "bbadbd36",
   "metadata": {},
   "outputs": [
    {
     "name": "stderr",
     "output_type": "stream",
     "text": [
      "C:\\Users\\samar\\AppData\\Local\\Temp\\ipykernel_5712\\3478665567.py:1: FutureWarning: The default value of regex will change from True to False in a future version. In addition, single character regular expressions will *not* be treated as literal strings when regex=True.\n",
      "  car['selling_price']=car['selling_price'].str.replace('*','').str.replace('Lakh','')\n"
     ]
    }
   ],
   "source": [
    "car['selling_price']=car['selling_price'].str.replace('*','').str.replace('Lakh','')"
   ]
  },
  {
   "cell_type": "code",
   "execution_count": 24,
   "id": "676d23fd",
   "metadata": {},
   "outputs": [],
   "source": [
    "car['selling_price']=car['selling_price'].str.replace(',','')"
   ]
  },
  {
   "cell_type": "code",
   "execution_count": 25,
   "id": "e0fa568d",
   "metadata": {},
   "outputs": [],
   "source": [
    "car['selling_price']=car['selling_price'].str.replace('Cr','').astype(float)"
   ]
  },
  {
   "cell_type": "code",
   "execution_count": 26,
   "id": "db319a75",
   "metadata": {},
   "outputs": [
    {
     "data": {
      "text/plain": [
       "1         5.50\n",
       "4         5.70\n",
       "5         3.50\n",
       "6         3.15\n",
       "7         4.10\n",
       "         ...  \n",
       "19956     2.75\n",
       "19957     4.85\n",
       "19959     5.90\n",
       "19961     5.25\n",
       "19972    12.25\n",
       "Name: selling_price, Length: 9441, dtype: float64"
      ]
     },
     "execution_count": 26,
     "metadata": {},
     "output_type": "execute_result"
    }
   ],
   "source": [
    "car['selling_price']"
   ]
  },
  {
   "cell_type": "code",
   "execution_count": 27,
   "id": "b6f449d0",
   "metadata": {},
   "outputs": [
    {
     "name": "stdout",
     "output_type": "stream",
     "text": [
      "<class 'pandas.core.frame.DataFrame'>\n",
      "Int64Index: 9441 entries, 1 to 19972\n",
      "Data columns (total 13 columns):\n",
      " #   Column             Non-Null Count  Dtype  \n",
      "---  ------             --------------  -----  \n",
      " 0   full_name          9441 non-null   object \n",
      " 1   selling_price      9441 non-null   float64\n",
      " 2   new_price          9441 non-null   object \n",
      " 3   year               9441 non-null   int64  \n",
      " 4   seller_type        9441 non-null   object \n",
      " 5   km_driven          9441 non-null   object \n",
      " 6   owner_type         9441 non-null   object \n",
      " 7   fuel_type          9441 non-null   object \n",
      " 8   transmission_type  9441 non-null   object \n",
      " 9   mileage            9441 non-null   object \n",
      " 10  engine             9441 non-null   object \n",
      " 11  max_power          9441 non-null   object \n",
      " 12  seats              9441 non-null   object \n",
      "dtypes: float64(1), int64(1), object(11)\n",
      "memory usage: 1.0+ MB\n"
     ]
    }
   ],
   "source": [
    "car.info()"
   ]
  },
  {
   "cell_type": "code",
   "execution_count": 28,
   "id": "a6c42d00",
   "metadata": {},
   "outputs": [],
   "source": [
    "car['km_driven']=car['km_driven'].str.split(' ').str.get(0).str.replace(',','').astype(int)"
   ]
  },
  {
   "cell_type": "code",
   "execution_count": 29,
   "id": "ee3852d2",
   "metadata": {},
   "outputs": [
    {
     "name": "stdout",
     "output_type": "stream",
     "text": [
      "<class 'pandas.core.frame.DataFrame'>\n",
      "Int64Index: 9441 entries, 1 to 19972\n",
      "Data columns (total 13 columns):\n",
      " #   Column             Non-Null Count  Dtype  \n",
      "---  ------             --------------  -----  \n",
      " 0   full_name          9441 non-null   object \n",
      " 1   selling_price      9441 non-null   float64\n",
      " 2   new_price          9441 non-null   object \n",
      " 3   year               9441 non-null   int64  \n",
      " 4   seller_type        9441 non-null   object \n",
      " 5   km_driven          9441 non-null   int32  \n",
      " 6   owner_type         9441 non-null   object \n",
      " 7   fuel_type          9441 non-null   object \n",
      " 8   transmission_type  9441 non-null   object \n",
      " 9   mileage            9441 non-null   object \n",
      " 10  engine             9441 non-null   object \n",
      " 11  max_power          9441 non-null   object \n",
      " 12  seats              9441 non-null   object \n",
      "dtypes: float64(1), int32(1), int64(1), object(10)\n",
      "memory usage: 995.7+ KB\n"
     ]
    }
   ],
   "source": [
    "car.info()"
   ]
  },
  {
   "cell_type": "code",
   "execution_count": 30,
   "id": "766bda83",
   "metadata": {},
   "outputs": [
    {
     "data": {
      "text/plain": [
       "1          20000\n",
       "4          30000\n",
       "5          35000\n",
       "6          40000\n",
       "7          17512\n",
       "          ...   \n",
       "19956      44000\n",
       "19957      29847\n",
       "19959      25000\n",
       "19961      28000\n",
       "19972    3800000\n",
       "Name: km_driven, Length: 9441, dtype: int32"
      ]
     },
     "execution_count": 30,
     "metadata": {},
     "output_type": "execute_result"
    }
   ],
   "source": [
    "car['km_driven']"
   ]
  },
  {
   "cell_type": "code",
   "execution_count": 31,
   "id": "50b08bca",
   "metadata": {},
   "outputs": [],
   "source": [
    "car=car.drop(['new_price','seller_type','owner_type','max_power','seats'],axis=1)"
   ]
  },
  {
   "cell_type": "code",
   "execution_count": 32,
   "id": "3e8f5b19",
   "metadata": {},
   "outputs": [
    {
     "name": "stdout",
     "output_type": "stream",
     "text": [
      "<class 'pandas.core.frame.DataFrame'>\n",
      "Int64Index: 9441 entries, 1 to 19972\n",
      "Data columns (total 8 columns):\n",
      " #   Column             Non-Null Count  Dtype  \n",
      "---  ------             --------------  -----  \n",
      " 0   full_name          9441 non-null   object \n",
      " 1   selling_price      9441 non-null   float64\n",
      " 2   year               9441 non-null   int64  \n",
      " 3   km_driven          9441 non-null   int32  \n",
      " 4   fuel_type          9441 non-null   object \n",
      " 5   transmission_type  9441 non-null   object \n",
      " 6   mileage            9441 non-null   object \n",
      " 7   engine             9441 non-null   object \n",
      "dtypes: float64(1), int32(1), int64(1), object(5)\n",
      "memory usage: 626.9+ KB\n"
     ]
    }
   ],
   "source": [
    "car.info()"
   ]
  },
  {
   "cell_type": "code",
   "execution_count": 33,
   "id": "3080e69b",
   "metadata": {},
   "outputs": [],
   "source": [
    "car['mileage']=car['mileage'].str.replace('Mileage','').str.replace('km/hr','').str.replace('kmpl','')"
   ]
  },
  {
   "cell_type": "code",
   "execution_count": 34,
   "id": "bf920a1f",
   "metadata": {},
   "outputs": [],
   "source": [
    "car['mileage']=car['mileage'].str.replace('km/kg','').astype(float)"
   ]
  },
  {
   "cell_type": "code",
   "execution_count": 35,
   "id": "47746a40",
   "metadata": {},
   "outputs": [
    {
     "data": {
      "text/plain": [
       "1        18.90\n",
       "4        22.77\n",
       "5        18.90\n",
       "6        20.36\n",
       "7        20.51\n",
       "         ...  \n",
       "19956    30.46\n",
       "19957    24.04\n",
       "19959    22.00\n",
       "19961    25.80\n",
       "19972    16.00\n",
       "Name: mileage, Length: 9441, dtype: float64"
      ]
     },
     "execution_count": 35,
     "metadata": {},
     "output_type": "execute_result"
    }
   ],
   "source": [
    "car['mileage']"
   ]
  },
  {
   "cell_type": "code",
   "execution_count": 36,
   "id": "c6163f68",
   "metadata": {},
   "outputs": [
    {
     "data": {
      "text/plain": [
       "1        Engine1197 CC\n",
       "4        Engine1498 CC\n",
       "5         Engine998 CC\n",
       "6        Engine1197 CC\n",
       "7         Engine998 CC\n",
       "             ...      \n",
       "19956     Engine796 CC\n",
       "19957     Engine999 CC\n",
       "19959    Engine1197 CC\n",
       "19961    Engine1498 CC\n",
       "19972    Engine2179 CC\n",
       "Name: engine, Length: 9441, dtype: object"
      ]
     },
     "execution_count": 36,
     "metadata": {},
     "output_type": "execute_result"
    }
   ],
   "source": [
    "car['engine']"
   ]
  },
  {
   "cell_type": "code",
   "execution_count": 37,
   "id": "8441f962",
   "metadata": {},
   "outputs": [],
   "source": [
    "car['engine']=car['engine'].str.replace('CC','').str.replace('Engine','')"
   ]
  },
  {
   "cell_type": "code",
   "execution_count": 38,
   "id": "52cf8d44",
   "metadata": {},
   "outputs": [],
   "source": [
    "car['engine']=car['engine'].astype(int)"
   ]
  },
  {
   "cell_type": "raw",
   "id": "3b2d20a6",
   "metadata": {},
   "source": []
  },
  {
   "cell_type": "code",
   "execution_count": 39,
   "id": "18987ec4",
   "metadata": {},
   "outputs": [
    {
     "name": "stdout",
     "output_type": "stream",
     "text": [
      "<class 'pandas.core.frame.DataFrame'>\n",
      "Int64Index: 9441 entries, 1 to 19972\n",
      "Data columns (total 8 columns):\n",
      " #   Column             Non-Null Count  Dtype  \n",
      "---  ------             --------------  -----  \n",
      " 0   full_name          9441 non-null   object \n",
      " 1   selling_price      9441 non-null   float64\n",
      " 2   year               9441 non-null   int64  \n",
      " 3   km_driven          9441 non-null   int32  \n",
      " 4   fuel_type          9441 non-null   object \n",
      " 5   transmission_type  9441 non-null   object \n",
      " 6   mileage            9441 non-null   float64\n",
      " 7   engine             9441 non-null   int32  \n",
      "dtypes: float64(2), int32(2), int64(1), object(3)\n",
      "memory usage: 590.1+ KB\n"
     ]
    }
   ],
   "source": [
    "car.info()"
   ]
  },
  {
   "cell_type": "code",
   "execution_count": 40,
   "id": "d4c2c7e6",
   "metadata": {},
   "outputs": [],
   "source": [
    "car['full_name']=car['full_name'].str.split(' ').str.slice(0,3).str.join(' ')"
   ]
  },
  {
   "cell_type": "code",
   "execution_count": 41,
   "id": "7a56cafb",
   "metadata": {},
   "outputs": [
    {
     "data": {
      "text/html": [
       "<div>\n",
       "<style scoped>\n",
       "    .dataframe tbody tr th:only-of-type {\n",
       "        vertical-align: middle;\n",
       "    }\n",
       "\n",
       "    .dataframe tbody tr th {\n",
       "        vertical-align: top;\n",
       "    }\n",
       "\n",
       "    .dataframe thead th {\n",
       "        text-align: right;\n",
       "    }\n",
       "</style>\n",
       "<table border=\"1\" class=\"dataframe\">\n",
       "  <thead>\n",
       "    <tr style=\"text-align: right;\">\n",
       "      <th></th>\n",
       "      <th>full_name</th>\n",
       "      <th>selling_price</th>\n",
       "      <th>year</th>\n",
       "      <th>km_driven</th>\n",
       "      <th>fuel_type</th>\n",
       "      <th>transmission_type</th>\n",
       "      <th>mileage</th>\n",
       "      <th>engine</th>\n",
       "    </tr>\n",
       "  </thead>\n",
       "  <tbody>\n",
       "    <tr>\n",
       "      <th>1</th>\n",
       "      <td>Hyundai Grand i10</td>\n",
       "      <td>5.50</td>\n",
       "      <td>2016</td>\n",
       "      <td>20000</td>\n",
       "      <td>Petrol</td>\n",
       "      <td>Manual</td>\n",
       "      <td>18.90</td>\n",
       "      <td>1197</td>\n",
       "    </tr>\n",
       "    <tr>\n",
       "      <th>4</th>\n",
       "      <td>Ford Ecosport 2015-2021</td>\n",
       "      <td>5.70</td>\n",
       "      <td>2015</td>\n",
       "      <td>30000</td>\n",
       "      <td>Diesel</td>\n",
       "      <td>Manual</td>\n",
       "      <td>22.77</td>\n",
       "      <td>1498</td>\n",
       "    </tr>\n",
       "    <tr>\n",
       "      <th>5</th>\n",
       "      <td>Maruti Wagon R</td>\n",
       "      <td>3.50</td>\n",
       "      <td>2013</td>\n",
       "      <td>35000</td>\n",
       "      <td>Petrol</td>\n",
       "      <td>Manual</td>\n",
       "      <td>18.90</td>\n",
       "      <td>998</td>\n",
       "    </tr>\n",
       "    <tr>\n",
       "      <th>6</th>\n",
       "      <td>Hyundai i10 Sportz</td>\n",
       "      <td>3.15</td>\n",
       "      <td>2013</td>\n",
       "      <td>40000</td>\n",
       "      <td>Petrol</td>\n",
       "      <td>Manual</td>\n",
       "      <td>20.36</td>\n",
       "      <td>1197</td>\n",
       "    </tr>\n",
       "    <tr>\n",
       "      <th>7</th>\n",
       "      <td>Maruti Wagon R</td>\n",
       "      <td>4.10</td>\n",
       "      <td>2018</td>\n",
       "      <td>17512</td>\n",
       "      <td>Petrol</td>\n",
       "      <td>Manual</td>\n",
       "      <td>20.51</td>\n",
       "      <td>998</td>\n",
       "    </tr>\n",
       "    <tr>\n",
       "      <th>...</th>\n",
       "      <td>...</td>\n",
       "      <td>...</td>\n",
       "      <td>...</td>\n",
       "      <td>...</td>\n",
       "      <td>...</td>\n",
       "      <td>...</td>\n",
       "      <td>...</td>\n",
       "      <td>...</td>\n",
       "    </tr>\n",
       "    <tr>\n",
       "      <th>19956</th>\n",
       "      <td>Maruti Alto 800</td>\n",
       "      <td>2.75</td>\n",
       "      <td>2014</td>\n",
       "      <td>44000</td>\n",
       "      <td>CNG</td>\n",
       "      <td>Manual</td>\n",
       "      <td>30.46</td>\n",
       "      <td>796</td>\n",
       "    </tr>\n",
       "    <tr>\n",
       "      <th>19957</th>\n",
       "      <td>Renault KWID Climber</td>\n",
       "      <td>4.85</td>\n",
       "      <td>2017</td>\n",
       "      <td>29847</td>\n",
       "      <td>Petrol</td>\n",
       "      <td>Automatic</td>\n",
       "      <td>24.04</td>\n",
       "      <td>999</td>\n",
       "    </tr>\n",
       "    <tr>\n",
       "      <th>19959</th>\n",
       "      <td>Maruti Swift AMT</td>\n",
       "      <td>5.90</td>\n",
       "      <td>2018</td>\n",
       "      <td>25000</td>\n",
       "      <td>Petrol</td>\n",
       "      <td>Automatic</td>\n",
       "      <td>22.00</td>\n",
       "      <td>1197</td>\n",
       "    </tr>\n",
       "    <tr>\n",
       "      <th>19961</th>\n",
       "      <td>Honda Amaze E</td>\n",
       "      <td>5.25</td>\n",
       "      <td>2015</td>\n",
       "      <td>28000</td>\n",
       "      <td>Diesel</td>\n",
       "      <td>Manual</td>\n",
       "      <td>25.80</td>\n",
       "      <td>1498</td>\n",
       "    </tr>\n",
       "    <tr>\n",
       "      <th>19972</th>\n",
       "      <td>Mahindra XUV500 W6</td>\n",
       "      <td>12.25</td>\n",
       "      <td>2016</td>\n",
       "      <td>3800000</td>\n",
       "      <td>Diesel</td>\n",
       "      <td>Manual</td>\n",
       "      <td>16.00</td>\n",
       "      <td>2179</td>\n",
       "    </tr>\n",
       "  </tbody>\n",
       "</table>\n",
       "<p>9441 rows × 8 columns</p>\n",
       "</div>"
      ],
      "text/plain": [
       "                     full_name  selling_price  year  km_driven fuel_type  \\\n",
       "1            Hyundai Grand i10           5.50  2016      20000    Petrol   \n",
       "4      Ford Ecosport 2015-2021           5.70  2015      30000    Diesel   \n",
       "5               Maruti Wagon R           3.50  2013      35000    Petrol   \n",
       "6           Hyundai i10 Sportz           3.15  2013      40000    Petrol   \n",
       "7               Maruti Wagon R           4.10  2018      17512    Petrol   \n",
       "...                        ...            ...   ...        ...       ...   \n",
       "19956          Maruti Alto 800           2.75  2014      44000       CNG   \n",
       "19957     Renault KWID Climber           4.85  2017      29847    Petrol   \n",
       "19959         Maruti Swift AMT           5.90  2018      25000    Petrol   \n",
       "19961            Honda Amaze E           5.25  2015      28000    Diesel   \n",
       "19972       Mahindra XUV500 W6          12.25  2016    3800000    Diesel   \n",
       "\n",
       "      transmission_type  mileage  engine  \n",
       "1                Manual    18.90    1197  \n",
       "4                Manual    22.77    1498  \n",
       "5                Manual    18.90     998  \n",
       "6                Manual    20.36    1197  \n",
       "7                Manual    20.51     998  \n",
       "...                 ...      ...     ...  \n",
       "19956            Manual    30.46     796  \n",
       "19957         Automatic    24.04     999  \n",
       "19959         Automatic    22.00    1197  \n",
       "19961            Manual    25.80    1498  \n",
       "19972            Manual    16.00    2179  \n",
       "\n",
       "[9441 rows x 8 columns]"
      ]
     },
     "execution_count": 41,
     "metadata": {},
     "output_type": "execute_result"
    }
   ],
   "source": [
    "car"
   ]
  },
  {
   "cell_type": "code",
   "execution_count": 42,
   "id": "0a31ae8f",
   "metadata": {},
   "outputs": [],
   "source": [
    "car=car.reset_index(drop=True)"
   ]
  },
  {
   "cell_type": "code",
   "execution_count": 43,
   "id": "dacdacaa",
   "metadata": {},
   "outputs": [
    {
     "data": {
      "text/html": [
       "<div>\n",
       "<style scoped>\n",
       "    .dataframe tbody tr th:only-of-type {\n",
       "        vertical-align: middle;\n",
       "    }\n",
       "\n",
       "    .dataframe tbody tr th {\n",
       "        vertical-align: top;\n",
       "    }\n",
       "\n",
       "    .dataframe thead th {\n",
       "        text-align: right;\n",
       "    }\n",
       "</style>\n",
       "<table border=\"1\" class=\"dataframe\">\n",
       "  <thead>\n",
       "    <tr style=\"text-align: right;\">\n",
       "      <th></th>\n",
       "      <th>selling_price</th>\n",
       "      <th>year</th>\n",
       "      <th>km_driven</th>\n",
       "      <th>mileage</th>\n",
       "      <th>engine</th>\n",
       "    </tr>\n",
       "  </thead>\n",
       "  <tbody>\n",
       "    <tr>\n",
       "      <th>count</th>\n",
       "      <td>9441.000000</td>\n",
       "      <td>9441.000000</td>\n",
       "      <td>9.441000e+03</td>\n",
       "      <td>9441.000000</td>\n",
       "      <td>9441.000000</td>\n",
       "    </tr>\n",
       "    <tr>\n",
       "      <th>mean</th>\n",
       "      <td>218.502071</td>\n",
       "      <td>2015.287364</td>\n",
       "      <td>5.121888e+04</td>\n",
       "      <td>18.975934</td>\n",
       "      <td>1520.179642</td>\n",
       "    </tr>\n",
       "    <tr>\n",
       "      <th>std</th>\n",
       "      <td>3997.401805</td>\n",
       "      <td>2.974457</td>\n",
       "      <td>5.563238e+04</td>\n",
       "      <td>3.859898</td>\n",
       "      <td>543.557229</td>\n",
       "    </tr>\n",
       "    <tr>\n",
       "      <th>min</th>\n",
       "      <td>1.000000</td>\n",
       "      <td>1992.000000</td>\n",
       "      <td>1.000000e+02</td>\n",
       "      <td>4.000000</td>\n",
       "      <td>796.000000</td>\n",
       "    </tr>\n",
       "    <tr>\n",
       "      <th>25%</th>\n",
       "      <td>4.000000</td>\n",
       "      <td>2014.000000</td>\n",
       "      <td>2.500000e+04</td>\n",
       "      <td>16.380000</td>\n",
       "      <td>1197.000000</td>\n",
       "    </tr>\n",
       "    <tr>\n",
       "      <th>50%</th>\n",
       "      <td>5.750000</td>\n",
       "      <td>2016.000000</td>\n",
       "      <td>4.600000e+04</td>\n",
       "      <td>18.900000</td>\n",
       "      <td>1396.000000</td>\n",
       "    </tr>\n",
       "    <tr>\n",
       "      <th>75%</th>\n",
       "      <td>8.750000</td>\n",
       "      <td>2018.000000</td>\n",
       "      <td>6.700000e+04</td>\n",
       "      <td>21.790000</td>\n",
       "      <td>1591.000000</td>\n",
       "    </tr>\n",
       "    <tr>\n",
       "      <th>max</th>\n",
       "      <td>95000.000000</td>\n",
       "      <td>2021.000000</td>\n",
       "      <td>3.800000e+06</td>\n",
       "      <td>33.540000</td>\n",
       "      <td>6592.000000</td>\n",
       "    </tr>\n",
       "  </tbody>\n",
       "</table>\n",
       "</div>"
      ],
      "text/plain": [
       "       selling_price         year     km_driven      mileage       engine\n",
       "count    9441.000000  9441.000000  9.441000e+03  9441.000000  9441.000000\n",
       "mean      218.502071  2015.287364  5.121888e+04    18.975934  1520.179642\n",
       "std      3997.401805     2.974457  5.563238e+04     3.859898   543.557229\n",
       "min         1.000000  1992.000000  1.000000e+02     4.000000   796.000000\n",
       "25%         4.000000  2014.000000  2.500000e+04    16.380000  1197.000000\n",
       "50%         5.750000  2016.000000  4.600000e+04    18.900000  1396.000000\n",
       "75%         8.750000  2018.000000  6.700000e+04    21.790000  1591.000000\n",
       "max     95000.000000  2021.000000  3.800000e+06    33.540000  6592.000000"
      ]
     },
     "execution_count": 43,
     "metadata": {},
     "output_type": "execute_result"
    }
   ],
   "source": [
    "car.describe()"
   ]
  },
  {
   "cell_type": "code",
   "execution_count": 44,
   "id": "6e71ba13",
   "metadata": {},
   "outputs": [],
   "source": [
    "car['selling_price']=car['selling_price'].astype(float)"
   ]
  },
  {
   "cell_type": "code",
   "execution_count": 45,
   "id": "a71484a2",
   "metadata": {},
   "outputs": [
    {
     "data": {
      "text/html": [
       "<div>\n",
       "<style scoped>\n",
       "    .dataframe tbody tr th:only-of-type {\n",
       "        vertical-align: middle;\n",
       "    }\n",
       "\n",
       "    .dataframe tbody tr th {\n",
       "        vertical-align: top;\n",
       "    }\n",
       "\n",
       "    .dataframe thead th {\n",
       "        text-align: right;\n",
       "    }\n",
       "</style>\n",
       "<table border=\"1\" class=\"dataframe\">\n",
       "  <thead>\n",
       "    <tr style=\"text-align: right;\">\n",
       "      <th></th>\n",
       "      <th>selling_price</th>\n",
       "      <th>year</th>\n",
       "      <th>km_driven</th>\n",
       "      <th>mileage</th>\n",
       "      <th>engine</th>\n",
       "    </tr>\n",
       "  </thead>\n",
       "  <tbody>\n",
       "    <tr>\n",
       "      <th>count</th>\n",
       "      <td>9441.000000</td>\n",
       "      <td>9441.000000</td>\n",
       "      <td>9.441000e+03</td>\n",
       "      <td>9441.000000</td>\n",
       "      <td>9441.000000</td>\n",
       "    </tr>\n",
       "    <tr>\n",
       "      <th>mean</th>\n",
       "      <td>218.502071</td>\n",
       "      <td>2015.287364</td>\n",
       "      <td>5.121888e+04</td>\n",
       "      <td>18.975934</td>\n",
       "      <td>1520.179642</td>\n",
       "    </tr>\n",
       "    <tr>\n",
       "      <th>std</th>\n",
       "      <td>3997.401805</td>\n",
       "      <td>2.974457</td>\n",
       "      <td>5.563238e+04</td>\n",
       "      <td>3.859898</td>\n",
       "      <td>543.557229</td>\n",
       "    </tr>\n",
       "    <tr>\n",
       "      <th>min</th>\n",
       "      <td>1.000000</td>\n",
       "      <td>1992.000000</td>\n",
       "      <td>1.000000e+02</td>\n",
       "      <td>4.000000</td>\n",
       "      <td>796.000000</td>\n",
       "    </tr>\n",
       "    <tr>\n",
       "      <th>25%</th>\n",
       "      <td>4.000000</td>\n",
       "      <td>2014.000000</td>\n",
       "      <td>2.500000e+04</td>\n",
       "      <td>16.380000</td>\n",
       "      <td>1197.000000</td>\n",
       "    </tr>\n",
       "    <tr>\n",
       "      <th>50%</th>\n",
       "      <td>5.750000</td>\n",
       "      <td>2016.000000</td>\n",
       "      <td>4.600000e+04</td>\n",
       "      <td>18.900000</td>\n",
       "      <td>1396.000000</td>\n",
       "    </tr>\n",
       "    <tr>\n",
       "      <th>75%</th>\n",
       "      <td>8.750000</td>\n",
       "      <td>2018.000000</td>\n",
       "      <td>6.700000e+04</td>\n",
       "      <td>21.790000</td>\n",
       "      <td>1591.000000</td>\n",
       "    </tr>\n",
       "    <tr>\n",
       "      <th>max</th>\n",
       "      <td>95000.000000</td>\n",
       "      <td>2021.000000</td>\n",
       "      <td>3.800000e+06</td>\n",
       "      <td>33.540000</td>\n",
       "      <td>6592.000000</td>\n",
       "    </tr>\n",
       "  </tbody>\n",
       "</table>\n",
       "</div>"
      ],
      "text/plain": [
       "       selling_price         year     km_driven      mileage       engine\n",
       "count    9441.000000  9441.000000  9.441000e+03  9441.000000  9441.000000\n",
       "mean      218.502071  2015.287364  5.121888e+04    18.975934  1520.179642\n",
       "std      3997.401805     2.974457  5.563238e+04     3.859898   543.557229\n",
       "min         1.000000  1992.000000  1.000000e+02     4.000000   796.000000\n",
       "25%         4.000000  2014.000000  2.500000e+04    16.380000  1197.000000\n",
       "50%         5.750000  2016.000000  4.600000e+04    18.900000  1396.000000\n",
       "75%         8.750000  2018.000000  6.700000e+04    21.790000  1591.000000\n",
       "max     95000.000000  2021.000000  3.800000e+06    33.540000  6592.000000"
      ]
     },
     "execution_count": 45,
     "metadata": {},
     "output_type": "execute_result"
    }
   ],
   "source": [
    "car.describe()"
   ]
  },
  {
   "cell_type": "code",
   "execution_count": 46,
   "id": "ce38bcc4",
   "metadata": {},
   "outputs": [
    {
     "name": "stdout",
     "output_type": "stream",
     "text": [
      "<class 'pandas.core.frame.DataFrame'>\n",
      "RangeIndex: 9441 entries, 0 to 9440\n",
      "Data columns (total 8 columns):\n",
      " #   Column             Non-Null Count  Dtype  \n",
      "---  ------             --------------  -----  \n",
      " 0   full_name          9441 non-null   object \n",
      " 1   selling_price      9441 non-null   float64\n",
      " 2   year               9441 non-null   int64  \n",
      " 3   km_driven          9441 non-null   int32  \n",
      " 4   fuel_type          9441 non-null   object \n",
      " 5   transmission_type  9441 non-null   object \n",
      " 6   mileage            9441 non-null   float64\n",
      " 7   engine             9441 non-null   int32  \n",
      "dtypes: float64(2), int32(2), int64(1), object(3)\n",
      "memory usage: 516.4+ KB\n"
     ]
    }
   ],
   "source": [
    "car.info()"
   ]
  },
  {
   "cell_type": "code",
   "execution_count": 47,
   "id": "a111d5eb",
   "metadata": {},
   "outputs": [],
   "source": [
    "car=car.loc[car['selling_price']<10]"
   ]
  },
  {
   "cell_type": "code",
   "execution_count": 48,
   "id": "14792942",
   "metadata": {},
   "outputs": [
    {
     "name": "stdout",
     "output_type": "stream",
     "text": [
      "<class 'pandas.core.frame.DataFrame'>\n",
      "Int64Index: 7567 entries, 0 to 9439\n",
      "Data columns (total 8 columns):\n",
      " #   Column             Non-Null Count  Dtype  \n",
      "---  ------             --------------  -----  \n",
      " 0   full_name          7567 non-null   object \n",
      " 1   selling_price      7567 non-null   float64\n",
      " 2   year               7567 non-null   int64  \n",
      " 3   km_driven          7567 non-null   int32  \n",
      " 4   fuel_type          7567 non-null   object \n",
      " 5   transmission_type  7567 non-null   object \n",
      " 6   mileage            7567 non-null   float64\n",
      " 7   engine             7567 non-null   int32  \n",
      "dtypes: float64(2), int32(2), int64(1), object(3)\n",
      "memory usage: 472.9+ KB\n"
     ]
    }
   ],
   "source": [
    "car.info()"
   ]
  },
  {
   "cell_type": "code",
   "execution_count": 49,
   "id": "6f2614a2",
   "metadata": {},
   "outputs": [
    {
     "data": {
      "text/html": [
       "<div>\n",
       "<style scoped>\n",
       "    .dataframe tbody tr th:only-of-type {\n",
       "        vertical-align: middle;\n",
       "    }\n",
       "\n",
       "    .dataframe tbody tr th {\n",
       "        vertical-align: top;\n",
       "    }\n",
       "\n",
       "    .dataframe thead th {\n",
       "        text-align: right;\n",
       "    }\n",
       "</style>\n",
       "<table border=\"1\" class=\"dataframe\">\n",
       "  <thead>\n",
       "    <tr style=\"text-align: right;\">\n",
       "      <th></th>\n",
       "      <th>selling_price</th>\n",
       "      <th>year</th>\n",
       "      <th>km_driven</th>\n",
       "      <th>mileage</th>\n",
       "      <th>engine</th>\n",
       "    </tr>\n",
       "  </thead>\n",
       "  <tbody>\n",
       "    <tr>\n",
       "      <th>count</th>\n",
       "      <td>7567.000000</td>\n",
       "      <td>7567.000000</td>\n",
       "      <td>7567.000000</td>\n",
       "      <td>7567.000000</td>\n",
       "      <td>7567.000000</td>\n",
       "    </tr>\n",
       "    <tr>\n",
       "      <th>mean</th>\n",
       "      <td>5.218723</td>\n",
       "      <td>2015.097529</td>\n",
       "      <td>50955.686534</td>\n",
       "      <td>19.751369</td>\n",
       "      <td>1360.687591</td>\n",
       "    </tr>\n",
       "    <tr>\n",
       "      <th>std</th>\n",
       "      <td>2.035246</td>\n",
       "      <td>2.942574</td>\n",
       "      <td>38284.458177</td>\n",
       "      <td>3.585922</td>\n",
       "      <td>396.388452</td>\n",
       "    </tr>\n",
       "    <tr>\n",
       "      <th>min</th>\n",
       "      <td>1.000000</td>\n",
       "      <td>2003.000000</td>\n",
       "      <td>100.000000</td>\n",
       "      <td>4.000000</td>\n",
       "      <td>796.000000</td>\n",
       "    </tr>\n",
       "    <tr>\n",
       "      <th>25%</th>\n",
       "      <td>3.600000</td>\n",
       "      <td>2013.000000</td>\n",
       "      <td>26000.000000</td>\n",
       "      <td>17.210000</td>\n",
       "      <td>1197.000000</td>\n",
       "    </tr>\n",
       "    <tr>\n",
       "      <th>50%</th>\n",
       "      <td>5.000000</td>\n",
       "      <td>2016.000000</td>\n",
       "      <td>46132.000000</td>\n",
       "      <td>19.120000</td>\n",
       "      <td>1198.000000</td>\n",
       "    </tr>\n",
       "    <tr>\n",
       "      <th>75%</th>\n",
       "      <td>6.550000</td>\n",
       "      <td>2017.000000</td>\n",
       "      <td>67000.000000</td>\n",
       "      <td>22.320000</td>\n",
       "      <td>1498.000000</td>\n",
       "    </tr>\n",
       "    <tr>\n",
       "      <th>max</th>\n",
       "      <td>9.990000</td>\n",
       "      <td>2021.000000</td>\n",
       "      <td>825000.000000</td>\n",
       "      <td>33.540000</td>\n",
       "      <td>6592.000000</td>\n",
       "    </tr>\n",
       "  </tbody>\n",
       "</table>\n",
       "</div>"
      ],
      "text/plain": [
       "       selling_price         year      km_driven      mileage       engine\n",
       "count    7567.000000  7567.000000    7567.000000  7567.000000  7567.000000\n",
       "mean        5.218723  2015.097529   50955.686534    19.751369  1360.687591\n",
       "std         2.035246     2.942574   38284.458177     3.585922   396.388452\n",
       "min         1.000000  2003.000000     100.000000     4.000000   796.000000\n",
       "25%         3.600000  2013.000000   26000.000000    17.210000  1197.000000\n",
       "50%         5.000000  2016.000000   46132.000000    19.120000  1198.000000\n",
       "75%         6.550000  2017.000000   67000.000000    22.320000  1498.000000\n",
       "max         9.990000  2021.000000  825000.000000    33.540000  6592.000000"
      ]
     },
     "execution_count": 49,
     "metadata": {},
     "output_type": "execute_result"
    }
   ],
   "source": [
    "car.describe()"
   ]
  },
  {
   "cell_type": "code",
   "execution_count": 50,
   "id": "05b35226",
   "metadata": {},
   "outputs": [
    {
     "data": {
      "text/html": [
       "<div>\n",
       "<style scoped>\n",
       "    .dataframe tbody tr th:only-of-type {\n",
       "        vertical-align: middle;\n",
       "    }\n",
       "\n",
       "    .dataframe tbody tr th {\n",
       "        vertical-align: top;\n",
       "    }\n",
       "\n",
       "    .dataframe thead th {\n",
       "        text-align: right;\n",
       "    }\n",
       "</style>\n",
       "<table border=\"1\" class=\"dataframe\">\n",
       "  <thead>\n",
       "    <tr style=\"text-align: right;\">\n",
       "      <th></th>\n",
       "      <th>full_name</th>\n",
       "      <th>selling_price</th>\n",
       "      <th>year</th>\n",
       "      <th>km_driven</th>\n",
       "      <th>fuel_type</th>\n",
       "      <th>transmission_type</th>\n",
       "      <th>mileage</th>\n",
       "      <th>engine</th>\n",
       "    </tr>\n",
       "  </thead>\n",
       "  <tbody>\n",
       "    <tr>\n",
       "      <th>0</th>\n",
       "      <td>Hyundai Grand i10</td>\n",
       "      <td>5.50</td>\n",
       "      <td>2016</td>\n",
       "      <td>20000</td>\n",
       "      <td>Petrol</td>\n",
       "      <td>Manual</td>\n",
       "      <td>18.90</td>\n",
       "      <td>1197</td>\n",
       "    </tr>\n",
       "    <tr>\n",
       "      <th>1</th>\n",
       "      <td>Ford Ecosport 2015-2021</td>\n",
       "      <td>5.70</td>\n",
       "      <td>2015</td>\n",
       "      <td>30000</td>\n",
       "      <td>Diesel</td>\n",
       "      <td>Manual</td>\n",
       "      <td>22.77</td>\n",
       "      <td>1498</td>\n",
       "    </tr>\n",
       "    <tr>\n",
       "      <th>2</th>\n",
       "      <td>Maruti Wagon R</td>\n",
       "      <td>3.50</td>\n",
       "      <td>2013</td>\n",
       "      <td>35000</td>\n",
       "      <td>Petrol</td>\n",
       "      <td>Manual</td>\n",
       "      <td>18.90</td>\n",
       "      <td>998</td>\n",
       "    </tr>\n",
       "    <tr>\n",
       "      <th>3</th>\n",
       "      <td>Hyundai i10 Sportz</td>\n",
       "      <td>3.15</td>\n",
       "      <td>2013</td>\n",
       "      <td>40000</td>\n",
       "      <td>Petrol</td>\n",
       "      <td>Manual</td>\n",
       "      <td>20.36</td>\n",
       "      <td>1197</td>\n",
       "    </tr>\n",
       "    <tr>\n",
       "      <th>4</th>\n",
       "      <td>Maruti Wagon R</td>\n",
       "      <td>4.10</td>\n",
       "      <td>2018</td>\n",
       "      <td>17512</td>\n",
       "      <td>Petrol</td>\n",
       "      <td>Manual</td>\n",
       "      <td>20.51</td>\n",
       "      <td>998</td>\n",
       "    </tr>\n",
       "    <tr>\n",
       "      <th>...</th>\n",
       "      <td>...</td>\n",
       "      <td>...</td>\n",
       "      <td>...</td>\n",
       "      <td>...</td>\n",
       "      <td>...</td>\n",
       "      <td>...</td>\n",
       "      <td>...</td>\n",
       "      <td>...</td>\n",
       "    </tr>\n",
       "    <tr>\n",
       "      <th>9434</th>\n",
       "      <td>Datsun GO T</td>\n",
       "      <td>2.25</td>\n",
       "      <td>2014</td>\n",
       "      <td>40000</td>\n",
       "      <td>Petrol</td>\n",
       "      <td>Manual</td>\n",
       "      <td>20.63</td>\n",
       "      <td>1198</td>\n",
       "    </tr>\n",
       "    <tr>\n",
       "      <th>9436</th>\n",
       "      <td>Maruti Alto 800</td>\n",
       "      <td>2.75</td>\n",
       "      <td>2014</td>\n",
       "      <td>44000</td>\n",
       "      <td>CNG</td>\n",
       "      <td>Manual</td>\n",
       "      <td>30.46</td>\n",
       "      <td>796</td>\n",
       "    </tr>\n",
       "    <tr>\n",
       "      <th>9437</th>\n",
       "      <td>Renault KWID Climber</td>\n",
       "      <td>4.85</td>\n",
       "      <td>2017</td>\n",
       "      <td>29847</td>\n",
       "      <td>Petrol</td>\n",
       "      <td>Automatic</td>\n",
       "      <td>24.04</td>\n",
       "      <td>999</td>\n",
       "    </tr>\n",
       "    <tr>\n",
       "      <th>9438</th>\n",
       "      <td>Maruti Swift AMT</td>\n",
       "      <td>5.90</td>\n",
       "      <td>2018</td>\n",
       "      <td>25000</td>\n",
       "      <td>Petrol</td>\n",
       "      <td>Automatic</td>\n",
       "      <td>22.00</td>\n",
       "      <td>1197</td>\n",
       "    </tr>\n",
       "    <tr>\n",
       "      <th>9439</th>\n",
       "      <td>Honda Amaze E</td>\n",
       "      <td>5.25</td>\n",
       "      <td>2015</td>\n",
       "      <td>28000</td>\n",
       "      <td>Diesel</td>\n",
       "      <td>Manual</td>\n",
       "      <td>25.80</td>\n",
       "      <td>1498</td>\n",
       "    </tr>\n",
       "  </tbody>\n",
       "</table>\n",
       "<p>7567 rows × 8 columns</p>\n",
       "</div>"
      ],
      "text/plain": [
       "                    full_name  selling_price  year  km_driven fuel_type  \\\n",
       "0           Hyundai Grand i10           5.50  2016      20000    Petrol   \n",
       "1     Ford Ecosport 2015-2021           5.70  2015      30000    Diesel   \n",
       "2              Maruti Wagon R           3.50  2013      35000    Petrol   \n",
       "3          Hyundai i10 Sportz           3.15  2013      40000    Petrol   \n",
       "4              Maruti Wagon R           4.10  2018      17512    Petrol   \n",
       "...                       ...            ...   ...        ...       ...   \n",
       "9434              Datsun GO T           2.25  2014      40000    Petrol   \n",
       "9436          Maruti Alto 800           2.75  2014      44000       CNG   \n",
       "9437     Renault KWID Climber           4.85  2017      29847    Petrol   \n",
       "9438         Maruti Swift AMT           5.90  2018      25000    Petrol   \n",
       "9439            Honda Amaze E           5.25  2015      28000    Diesel   \n",
       "\n",
       "     transmission_type  mileage  engine  \n",
       "0               Manual    18.90    1197  \n",
       "1               Manual    22.77    1498  \n",
       "2               Manual    18.90     998  \n",
       "3               Manual    20.36    1197  \n",
       "4               Manual    20.51     998  \n",
       "...                ...      ...     ...  \n",
       "9434            Manual    20.63    1198  \n",
       "9436            Manual    30.46     796  \n",
       "9437         Automatic    24.04     999  \n",
       "9438         Automatic    22.00    1197  \n",
       "9439            Manual    25.80    1498  \n",
       "\n",
       "[7567 rows x 8 columns]"
      ]
     },
     "execution_count": 50,
     "metadata": {},
     "output_type": "execute_result"
    }
   ],
   "source": [
    "car"
   ]
  },
  {
   "cell_type": "code",
   "execution_count": 51,
   "id": "3ae7f5c6",
   "metadata": {},
   "outputs": [],
   "source": [
    "car=car.reset_index(drop=True)"
   ]
  },
  {
   "cell_type": "code",
   "execution_count": 52,
   "id": "627861f8",
   "metadata": {},
   "outputs": [],
   "source": [
    "car.to_csv('Cleanedcar.csv')"
   ]
  },
  {
   "cell_type": "code",
   "execution_count": 53,
   "id": "1b5fbd0c",
   "metadata": {},
   "outputs": [],
   "source": [
    "X=car.drop(columns='selling_price')\n",
    "y=car['selling_price']"
   ]
  },
  {
   "cell_type": "code",
   "execution_count": 54,
   "id": "c7504477",
   "metadata": {},
   "outputs": [],
   "source": [
    "from sklearn.model_selection import train_test_split\n",
    "X_train,X_test,y_train,y_test=train_test_split(X,y,test_size=0.2)"
   ]
  },
  {
   "cell_type": "code",
   "execution_count": 60,
   "id": "03430036",
   "metadata": {},
   "outputs": [],
   "source": [
    "from sklearn.linear_model import LinearRegression\n",
    "from sklearn.metrics import r2_score\n",
    "from sklearn.preprocessing import OneHotEncoder\n",
    "from sklearn.compose import make_column_transformer\n",
    "from sklearn.pipeline import make_pipeline"
   ]
  },
  {
   "cell_type": "code",
   "execution_count": 61,
   "id": "d7354bb0",
   "metadata": {},
   "outputs": [
    {
     "data": {
      "text/html": [
       "<style>#sk-container-id-2 {color: black;background-color: white;}#sk-container-id-2 pre{padding: 0;}#sk-container-id-2 div.sk-toggleable {background-color: white;}#sk-container-id-2 label.sk-toggleable__label {cursor: pointer;display: block;width: 100%;margin-bottom: 0;padding: 0.3em;box-sizing: border-box;text-align: center;}#sk-container-id-2 label.sk-toggleable__label-arrow:before {content: \"▸\";float: left;margin-right: 0.25em;color: #696969;}#sk-container-id-2 label.sk-toggleable__label-arrow:hover:before {color: black;}#sk-container-id-2 div.sk-estimator:hover label.sk-toggleable__label-arrow:before {color: black;}#sk-container-id-2 div.sk-toggleable__content {max-height: 0;max-width: 0;overflow: hidden;text-align: left;background-color: #f0f8ff;}#sk-container-id-2 div.sk-toggleable__content pre {margin: 0.2em;color: black;border-radius: 0.25em;background-color: #f0f8ff;}#sk-container-id-2 input.sk-toggleable__control:checked~div.sk-toggleable__content {max-height: 200px;max-width: 100%;overflow: auto;}#sk-container-id-2 input.sk-toggleable__control:checked~label.sk-toggleable__label-arrow:before {content: \"▾\";}#sk-container-id-2 div.sk-estimator input.sk-toggleable__control:checked~label.sk-toggleable__label {background-color: #d4ebff;}#sk-container-id-2 div.sk-label input.sk-toggleable__control:checked~label.sk-toggleable__label {background-color: #d4ebff;}#sk-container-id-2 input.sk-hidden--visually {border: 0;clip: rect(1px 1px 1px 1px);clip: rect(1px, 1px, 1px, 1px);height: 1px;margin: -1px;overflow: hidden;padding: 0;position: absolute;width: 1px;}#sk-container-id-2 div.sk-estimator {font-family: monospace;background-color: #f0f8ff;border: 1px dotted black;border-radius: 0.25em;box-sizing: border-box;margin-bottom: 0.5em;}#sk-container-id-2 div.sk-estimator:hover {background-color: #d4ebff;}#sk-container-id-2 div.sk-parallel-item::after {content: \"\";width: 100%;border-bottom: 1px solid gray;flex-grow: 1;}#sk-container-id-2 div.sk-label:hover label.sk-toggleable__label {background-color: #d4ebff;}#sk-container-id-2 div.sk-serial::before {content: \"\";position: absolute;border-left: 1px solid gray;box-sizing: border-box;top: 0;bottom: 0;left: 50%;z-index: 0;}#sk-container-id-2 div.sk-serial {display: flex;flex-direction: column;align-items: center;background-color: white;padding-right: 0.2em;padding-left: 0.2em;position: relative;}#sk-container-id-2 div.sk-item {position: relative;z-index: 1;}#sk-container-id-2 div.sk-parallel {display: flex;align-items: stretch;justify-content: center;background-color: white;position: relative;}#sk-container-id-2 div.sk-item::before, #sk-container-id-2 div.sk-parallel-item::before {content: \"\";position: absolute;border-left: 1px solid gray;box-sizing: border-box;top: 0;bottom: 0;left: 50%;z-index: -1;}#sk-container-id-2 div.sk-parallel-item {display: flex;flex-direction: column;z-index: 1;position: relative;background-color: white;}#sk-container-id-2 div.sk-parallel-item:first-child::after {align-self: flex-end;width: 50%;}#sk-container-id-2 div.sk-parallel-item:last-child::after {align-self: flex-start;width: 50%;}#sk-container-id-2 div.sk-parallel-item:only-child::after {width: 0;}#sk-container-id-2 div.sk-dashed-wrapped {border: 1px dashed gray;margin: 0 0.4em 0.5em 0.4em;box-sizing: border-box;padding-bottom: 0.4em;background-color: white;}#sk-container-id-2 div.sk-label label {font-family: monospace;font-weight: bold;display: inline-block;line-height: 1.2em;}#sk-container-id-2 div.sk-label-container {text-align: center;}#sk-container-id-2 div.sk-container {/* jupyter's `normalize.less` sets `[hidden] { display: none; }` but bootstrap.min.css set `[hidden] { display: none !important; }` so we also need the `!important` here to be able to override the default hidden behavior on the sphinx rendered scikit-learn.org. See: https://github.com/scikit-learn/scikit-learn/issues/21755 */display: inline-block !important;position: relative;}#sk-container-id-2 div.sk-text-repr-fallback {display: none;}</style><div id=\"sk-container-id-2\" class=\"sk-top-container\"><div class=\"sk-text-repr-fallback\"><pre>OneHotEncoder()</pre><b>In a Jupyter environment, please rerun this cell to show the HTML representation or trust the notebook. <br />On GitHub, the HTML representation is unable to render, please try loading this page with nbviewer.org.</b></div><div class=\"sk-container\" hidden><div class=\"sk-item\"><div class=\"sk-estimator sk-toggleable\"><input class=\"sk-toggleable__control sk-hidden--visually\" id=\"sk-estimator-id-2\" type=\"checkbox\" checked><label for=\"sk-estimator-id-2\" class=\"sk-toggleable__label sk-toggleable__label-arrow\">OneHotEncoder</label><div class=\"sk-toggleable__content\"><pre>OneHotEncoder()</pre></div></div></div></div></div>"
      ],
      "text/plain": [
       "OneHotEncoder()"
      ]
     },
     "execution_count": 61,
     "metadata": {},
     "output_type": "execute_result"
    }
   ],
   "source": [
    "ohe=OneHotEncoder()\n",
    "ohe.fit(X[['full_name','fuel_type','transmission_type']])"
   ]
  },
  {
   "cell_type": "code",
   "execution_count": 66,
   "id": "4c3b7626",
   "metadata": {},
   "outputs": [],
   "source": [
    "column_trans=make_column_transformer((OneHotEncoder(categories=ohe.categories_),['full_name','fuel_type','transmission_type']),\n",
    "                                     remainder='passthrough')"
   ]
  },
  {
   "cell_type": "code",
   "execution_count": 67,
   "id": "5899fd33",
   "metadata": {},
   "outputs": [],
   "source": [
    "lr=LinearRegression()"
   ]
  },
  {
   "cell_type": "code",
   "execution_count": 68,
   "id": "014999cc",
   "metadata": {},
   "outputs": [],
   "source": [
    "pipe=make_pipeline(column_trans,lr)"
   ]
  },
  {
   "cell_type": "code",
   "execution_count": 69,
   "id": "2e4d9be3",
   "metadata": {},
   "outputs": [
    {
     "data": {
      "text/html": [
       "<style>#sk-container-id-4 {color: black;background-color: white;}#sk-container-id-4 pre{padding: 0;}#sk-container-id-4 div.sk-toggleable {background-color: white;}#sk-container-id-4 label.sk-toggleable__label {cursor: pointer;display: block;width: 100%;margin-bottom: 0;padding: 0.3em;box-sizing: border-box;text-align: center;}#sk-container-id-4 label.sk-toggleable__label-arrow:before {content: \"▸\";float: left;margin-right: 0.25em;color: #696969;}#sk-container-id-4 label.sk-toggleable__label-arrow:hover:before {color: black;}#sk-container-id-4 div.sk-estimator:hover label.sk-toggleable__label-arrow:before {color: black;}#sk-container-id-4 div.sk-toggleable__content {max-height: 0;max-width: 0;overflow: hidden;text-align: left;background-color: #f0f8ff;}#sk-container-id-4 div.sk-toggleable__content pre {margin: 0.2em;color: black;border-radius: 0.25em;background-color: #f0f8ff;}#sk-container-id-4 input.sk-toggleable__control:checked~div.sk-toggleable__content {max-height: 200px;max-width: 100%;overflow: auto;}#sk-container-id-4 input.sk-toggleable__control:checked~label.sk-toggleable__label-arrow:before {content: \"▾\";}#sk-container-id-4 div.sk-estimator input.sk-toggleable__control:checked~label.sk-toggleable__label {background-color: #d4ebff;}#sk-container-id-4 div.sk-label input.sk-toggleable__control:checked~label.sk-toggleable__label {background-color: #d4ebff;}#sk-container-id-4 input.sk-hidden--visually {border: 0;clip: rect(1px 1px 1px 1px);clip: rect(1px, 1px, 1px, 1px);height: 1px;margin: -1px;overflow: hidden;padding: 0;position: absolute;width: 1px;}#sk-container-id-4 div.sk-estimator {font-family: monospace;background-color: #f0f8ff;border: 1px dotted black;border-radius: 0.25em;box-sizing: border-box;margin-bottom: 0.5em;}#sk-container-id-4 div.sk-estimator:hover {background-color: #d4ebff;}#sk-container-id-4 div.sk-parallel-item::after {content: \"\";width: 100%;border-bottom: 1px solid gray;flex-grow: 1;}#sk-container-id-4 div.sk-label:hover label.sk-toggleable__label {background-color: #d4ebff;}#sk-container-id-4 div.sk-serial::before {content: \"\";position: absolute;border-left: 1px solid gray;box-sizing: border-box;top: 0;bottom: 0;left: 50%;z-index: 0;}#sk-container-id-4 div.sk-serial {display: flex;flex-direction: column;align-items: center;background-color: white;padding-right: 0.2em;padding-left: 0.2em;position: relative;}#sk-container-id-4 div.sk-item {position: relative;z-index: 1;}#sk-container-id-4 div.sk-parallel {display: flex;align-items: stretch;justify-content: center;background-color: white;position: relative;}#sk-container-id-4 div.sk-item::before, #sk-container-id-4 div.sk-parallel-item::before {content: \"\";position: absolute;border-left: 1px solid gray;box-sizing: border-box;top: 0;bottom: 0;left: 50%;z-index: -1;}#sk-container-id-4 div.sk-parallel-item {display: flex;flex-direction: column;z-index: 1;position: relative;background-color: white;}#sk-container-id-4 div.sk-parallel-item:first-child::after {align-self: flex-end;width: 50%;}#sk-container-id-4 div.sk-parallel-item:last-child::after {align-self: flex-start;width: 50%;}#sk-container-id-4 div.sk-parallel-item:only-child::after {width: 0;}#sk-container-id-4 div.sk-dashed-wrapped {border: 1px dashed gray;margin: 0 0.4em 0.5em 0.4em;box-sizing: border-box;padding-bottom: 0.4em;background-color: white;}#sk-container-id-4 div.sk-label label {font-family: monospace;font-weight: bold;display: inline-block;line-height: 1.2em;}#sk-container-id-4 div.sk-label-container {text-align: center;}#sk-container-id-4 div.sk-container {/* jupyter's `normalize.less` sets `[hidden] { display: none; }` but bootstrap.min.css set `[hidden] { display: none !important; }` so we also need the `!important` here to be able to override the default hidden behavior on the sphinx rendered scikit-learn.org. See: https://github.com/scikit-learn/scikit-learn/issues/21755 */display: inline-block !important;position: relative;}#sk-container-id-4 div.sk-text-repr-fallback {display: none;}</style><div id=\"sk-container-id-4\" class=\"sk-top-container\"><div class=\"sk-text-repr-fallback\"><pre>Pipeline(steps=[(&#x27;columntransformer&#x27;,\n",
       "                 ColumnTransformer(remainder=&#x27;passthrough&#x27;,\n",
       "                                   transformers=[(&#x27;onehotencoder&#x27;,\n",
       "                                                  OneHotEncoder(categories=[array([&#x27;Audi A4 1.8&#x27;, &#x27;BMW 3 Series&#x27;, &#x27;BMW 5 Series&#x27;, &#x27;BMW 7 Series&#x27;,\n",
       "       &#x27;BMW X1 sDrive20d&#x27;, &#x27;Bentley Continental GT&#x27;, &#x27;Datsun GO A&#x27;,\n",
       "       &#x27;Datsun GO Anniversary&#x27;, &#x27;Datsun GO D&#x27;, &#x27;Datsun GO Plus&#x27;,\n",
       "       &#x27;Datsun GO T&#x27;, &#x27;Datsun RediGO 1.0&#x27;, &#x27;Datsun RediGO A&#x27;,\n",
       "       &#x27;Datsun Re...\n",
       "       &#x27;Volkswagen Vento 1.6&#x27;, &#x27;Volkswagen Vento 2013-2015&#x27;,\n",
       "       &#x27;Volkswagen Vento 2015-2019&#x27;, &#x27;Volkswagen Vento IPL&#x27;,\n",
       "       &#x27;Volkswagen Vento Magnific&#x27;, &#x27;Volkswagen Vento Petrol&#x27;,\n",
       "       &#x27;Volkswagen Vento TSI&#x27;], dtype=object),\n",
       "                                                                            array([&#x27;CNG&#x27;, &#x27;Diesel&#x27;, &#x27;Petrol&#x27;], dtype=object),\n",
       "                                                                            array([&#x27;Automatic&#x27;, &#x27;Manual&#x27;], dtype=object)]),\n",
       "                                                  [&#x27;full_name&#x27;, &#x27;fuel_type&#x27;,\n",
       "                                                   &#x27;transmission_type&#x27;])])),\n",
       "                (&#x27;linearregression&#x27;, LinearRegression())])</pre><b>In a Jupyter environment, please rerun this cell to show the HTML representation or trust the notebook. <br />On GitHub, the HTML representation is unable to render, please try loading this page with nbviewer.org.</b></div><div class=\"sk-container\" hidden><div class=\"sk-item sk-dashed-wrapped\"><div class=\"sk-label-container\"><div class=\"sk-label sk-toggleable\"><input class=\"sk-toggleable__control sk-hidden--visually\" id=\"sk-estimator-id-10\" type=\"checkbox\" ><label for=\"sk-estimator-id-10\" class=\"sk-toggleable__label sk-toggleable__label-arrow\">Pipeline</label><div class=\"sk-toggleable__content\"><pre>Pipeline(steps=[(&#x27;columntransformer&#x27;,\n",
       "                 ColumnTransformer(remainder=&#x27;passthrough&#x27;,\n",
       "                                   transformers=[(&#x27;onehotencoder&#x27;,\n",
       "                                                  OneHotEncoder(categories=[array([&#x27;Audi A4 1.8&#x27;, &#x27;BMW 3 Series&#x27;, &#x27;BMW 5 Series&#x27;, &#x27;BMW 7 Series&#x27;,\n",
       "       &#x27;BMW X1 sDrive20d&#x27;, &#x27;Bentley Continental GT&#x27;, &#x27;Datsun GO A&#x27;,\n",
       "       &#x27;Datsun GO Anniversary&#x27;, &#x27;Datsun GO D&#x27;, &#x27;Datsun GO Plus&#x27;,\n",
       "       &#x27;Datsun GO T&#x27;, &#x27;Datsun RediGO 1.0&#x27;, &#x27;Datsun RediGO A&#x27;,\n",
       "       &#x27;Datsun Re...\n",
       "       &#x27;Volkswagen Vento 1.6&#x27;, &#x27;Volkswagen Vento 2013-2015&#x27;,\n",
       "       &#x27;Volkswagen Vento 2015-2019&#x27;, &#x27;Volkswagen Vento IPL&#x27;,\n",
       "       &#x27;Volkswagen Vento Magnific&#x27;, &#x27;Volkswagen Vento Petrol&#x27;,\n",
       "       &#x27;Volkswagen Vento TSI&#x27;], dtype=object),\n",
       "                                                                            array([&#x27;CNG&#x27;, &#x27;Diesel&#x27;, &#x27;Petrol&#x27;], dtype=object),\n",
       "                                                                            array([&#x27;Automatic&#x27;, &#x27;Manual&#x27;], dtype=object)]),\n",
       "                                                  [&#x27;full_name&#x27;, &#x27;fuel_type&#x27;,\n",
       "                                                   &#x27;transmission_type&#x27;])])),\n",
       "                (&#x27;linearregression&#x27;, LinearRegression())])</pre></div></div></div><div class=\"sk-serial\"><div class=\"sk-item sk-dashed-wrapped\"><div class=\"sk-label-container\"><div class=\"sk-label sk-toggleable\"><input class=\"sk-toggleable__control sk-hidden--visually\" id=\"sk-estimator-id-11\" type=\"checkbox\" ><label for=\"sk-estimator-id-11\" class=\"sk-toggleable__label sk-toggleable__label-arrow\">columntransformer: ColumnTransformer</label><div class=\"sk-toggleable__content\"><pre>ColumnTransformer(remainder=&#x27;passthrough&#x27;,\n",
       "                  transformers=[(&#x27;onehotencoder&#x27;,\n",
       "                                 OneHotEncoder(categories=[array([&#x27;Audi A4 1.8&#x27;, &#x27;BMW 3 Series&#x27;, &#x27;BMW 5 Series&#x27;, &#x27;BMW 7 Series&#x27;,\n",
       "       &#x27;BMW X1 sDrive20d&#x27;, &#x27;Bentley Continental GT&#x27;, &#x27;Datsun GO A&#x27;,\n",
       "       &#x27;Datsun GO Anniversary&#x27;, &#x27;Datsun GO D&#x27;, &#x27;Datsun GO Plus&#x27;,\n",
       "       &#x27;Datsun GO T&#x27;, &#x27;Datsun RediGO 1.0&#x27;, &#x27;Datsun RediGO A&#x27;,\n",
       "       &#x27;Datsun RediGO AMT&#x27;, &#x27;Datsun RediGO D&#x27;, &#x27;Datsun RediG...\n",
       "       &#x27;Volkswagen Polo Select&#x27;, &#x27;Volkswagen Vento 1.2&#x27;,\n",
       "       &#x27;Volkswagen Vento 1.6&#x27;, &#x27;Volkswagen Vento 2013-2015&#x27;,\n",
       "       &#x27;Volkswagen Vento 2015-2019&#x27;, &#x27;Volkswagen Vento IPL&#x27;,\n",
       "       &#x27;Volkswagen Vento Magnific&#x27;, &#x27;Volkswagen Vento Petrol&#x27;,\n",
       "       &#x27;Volkswagen Vento TSI&#x27;], dtype=object),\n",
       "                                                           array([&#x27;CNG&#x27;, &#x27;Diesel&#x27;, &#x27;Petrol&#x27;], dtype=object),\n",
       "                                                           array([&#x27;Automatic&#x27;, &#x27;Manual&#x27;], dtype=object)]),\n",
       "                                 [&#x27;full_name&#x27;, &#x27;fuel_type&#x27;,\n",
       "                                  &#x27;transmission_type&#x27;])])</pre></div></div></div><div class=\"sk-parallel\"><div class=\"sk-parallel-item\"><div class=\"sk-item\"><div class=\"sk-label-container\"><div class=\"sk-label sk-toggleable\"><input class=\"sk-toggleable__control sk-hidden--visually\" id=\"sk-estimator-id-12\" type=\"checkbox\" ><label for=\"sk-estimator-id-12\" class=\"sk-toggleable__label sk-toggleable__label-arrow\">onehotencoder</label><div class=\"sk-toggleable__content\"><pre>[&#x27;full_name&#x27;, &#x27;fuel_type&#x27;, &#x27;transmission_type&#x27;]</pre></div></div></div><div class=\"sk-serial\"><div class=\"sk-item\"><div class=\"sk-estimator sk-toggleable\"><input class=\"sk-toggleable__control sk-hidden--visually\" id=\"sk-estimator-id-13\" type=\"checkbox\" ><label for=\"sk-estimator-id-13\" class=\"sk-toggleable__label sk-toggleable__label-arrow\">OneHotEncoder</label><div class=\"sk-toggleable__content\"><pre>OneHotEncoder(categories=[array([&#x27;Audi A4 1.8&#x27;, &#x27;BMW 3 Series&#x27;, &#x27;BMW 5 Series&#x27;, &#x27;BMW 7 Series&#x27;,\n",
       "       &#x27;BMW X1 sDrive20d&#x27;, &#x27;Bentley Continental GT&#x27;, &#x27;Datsun GO A&#x27;,\n",
       "       &#x27;Datsun GO Anniversary&#x27;, &#x27;Datsun GO D&#x27;, &#x27;Datsun GO Plus&#x27;,\n",
       "       &#x27;Datsun GO T&#x27;, &#x27;Datsun RediGO 1.0&#x27;, &#x27;Datsun RediGO A&#x27;,\n",
       "       &#x27;Datsun RediGO AMT&#x27;, &#x27;Datsun RediGO D&#x27;, &#x27;Datsun RediGO Gold&#x27;,\n",
       "       &#x27;Datsun RediGO S&#x27;, &#x27;Datsun RediGO SV&#x27;, &#x27;Datsun RediGO Sport&#x27;,\n",
       "       &#x27;Datsun RediGO...\n",
       "       &#x27;Volkswagen Polo IPL&#x27;, &#x27;Volkswagen Polo Petrol&#x27;,\n",
       "       &#x27;Volkswagen Polo Select&#x27;, &#x27;Volkswagen Vento 1.2&#x27;,\n",
       "       &#x27;Volkswagen Vento 1.6&#x27;, &#x27;Volkswagen Vento 2013-2015&#x27;,\n",
       "       &#x27;Volkswagen Vento 2015-2019&#x27;, &#x27;Volkswagen Vento IPL&#x27;,\n",
       "       &#x27;Volkswagen Vento Magnific&#x27;, &#x27;Volkswagen Vento Petrol&#x27;,\n",
       "       &#x27;Volkswagen Vento TSI&#x27;], dtype=object),\n",
       "                          array([&#x27;CNG&#x27;, &#x27;Diesel&#x27;, &#x27;Petrol&#x27;], dtype=object),\n",
       "                          array([&#x27;Automatic&#x27;, &#x27;Manual&#x27;], dtype=object)])</pre></div></div></div></div></div></div><div class=\"sk-parallel-item\"><div class=\"sk-item\"><div class=\"sk-label-container\"><div class=\"sk-label sk-toggleable\"><input class=\"sk-toggleable__control sk-hidden--visually\" id=\"sk-estimator-id-14\" type=\"checkbox\" ><label for=\"sk-estimator-id-14\" class=\"sk-toggleable__label sk-toggleable__label-arrow\">remainder</label><div class=\"sk-toggleable__content\"><pre>[&#x27;year&#x27;, &#x27;km_driven&#x27;, &#x27;mileage&#x27;, &#x27;engine&#x27;]</pre></div></div></div><div class=\"sk-serial\"><div class=\"sk-item\"><div class=\"sk-estimator sk-toggleable\"><input class=\"sk-toggleable__control sk-hidden--visually\" id=\"sk-estimator-id-15\" type=\"checkbox\" ><label for=\"sk-estimator-id-15\" class=\"sk-toggleable__label sk-toggleable__label-arrow\">passthrough</label><div class=\"sk-toggleable__content\"><pre>passthrough</pre></div></div></div></div></div></div></div></div><div class=\"sk-item\"><div class=\"sk-estimator sk-toggleable\"><input class=\"sk-toggleable__control sk-hidden--visually\" id=\"sk-estimator-id-16\" type=\"checkbox\" ><label for=\"sk-estimator-id-16\" class=\"sk-toggleable__label sk-toggleable__label-arrow\">LinearRegression</label><div class=\"sk-toggleable__content\"><pre>LinearRegression()</pre></div></div></div></div></div></div></div>"
      ],
      "text/plain": [
       "Pipeline(steps=[('columntransformer',\n",
       "                 ColumnTransformer(remainder='passthrough',\n",
       "                                   transformers=[('onehotencoder',\n",
       "                                                  OneHotEncoder(categories=[array(['Audi A4 1.8', 'BMW 3 Series', 'BMW 5 Series', 'BMW 7 Series',\n",
       "       'BMW X1 sDrive20d', 'Bentley Continental GT', 'Datsun GO A',\n",
       "       'Datsun GO Anniversary', 'Datsun GO D', 'Datsun GO Plus',\n",
       "       'Datsun GO T', 'Datsun RediGO 1.0', 'Datsun RediGO A',\n",
       "       'Datsun Re...\n",
       "       'Volkswagen Vento 1.6', 'Volkswagen Vento 2013-2015',\n",
       "       'Volkswagen Vento 2015-2019', 'Volkswagen Vento IPL',\n",
       "       'Volkswagen Vento Magnific', 'Volkswagen Vento Petrol',\n",
       "       'Volkswagen Vento TSI'], dtype=object),\n",
       "                                                                            array(['CNG', 'Diesel', 'Petrol'], dtype=object),\n",
       "                                                                            array(['Automatic', 'Manual'], dtype=object)]),\n",
       "                                                  ['full_name', 'fuel_type',\n",
       "                                                   'transmission_type'])])),\n",
       "                ('linearregression', LinearRegression())])"
      ]
     },
     "execution_count": 69,
     "metadata": {},
     "output_type": "execute_result"
    }
   ],
   "source": [
    "pipe.fit(X_train,y_train)"
   ]
  },
  {
   "cell_type": "code",
   "execution_count": 71,
   "id": "7eda182f",
   "metadata": {},
   "outputs": [],
   "source": [
    "y_pred=pipe.predict(X_test)"
   ]
  },
  {
   "cell_type": "code",
   "execution_count": 74,
   "id": "d551c129",
   "metadata": {},
   "outputs": [
    {
     "name": "stdout",
     "output_type": "stream",
     "text": [
      "[ 4.20311906  6.69239375  7.26838777  6.8558189   6.23979434  7.13406415\n",
      "  5.1269426   5.58134323  7.46547535  4.90482461  5.13902884  5.63689969\n",
      "  4.60411109  3.71498855  4.14034872  2.55980062  5.8703339   7.3362215\n",
      "  6.3995833   3.99054203  7.339932    6.983015    5.94031127  8.52423346\n",
      "  4.73662476  5.94945962  7.37086876  4.65412211  3.1143067   1.22651865\n",
      "  4.44776739  4.7755502   5.84458017  3.74726888  1.97123318  6.65836242\n",
      "  4.07043893  4.55186138  1.61128793  8.48031255  5.88313438  5.21107846\n",
      "  6.31423514  4.74735867  6.9334511   6.1936446   3.74621611  1.91441969\n",
      "  3.19499737  8.19250058  4.9695908   3.32568735  5.01193232  4.83959563\n",
      "  7.24745213  6.38578732 12.05785186  6.86959211  7.50660178  6.1617491\n",
      "  3.01784814  2.84485271  2.58512741  4.33806805  6.27573132  3.03002524\n",
      "  4.70532687  1.41603952  4.3306332   5.0341115   5.40663911  2.40348694\n",
      "  6.59138672  2.05624088  2.80849311  3.58981723  6.34322118  5.86032409\n",
      "  2.83602721  4.22642837  8.05250078  4.16675908  0.58517842  4.53169624\n",
      "  3.18508199  6.88623701  3.08999981  6.68587802  5.36372213  4.58107384\n",
      "  3.83351295  5.69775564  6.14049403  4.04513313  5.39985003  6.05551048\n",
      "  5.40813965  7.25385176  6.92150647  7.77128069  4.93892054  5.03743445\n",
      "  5.37634557  7.46111003  4.37842674  6.4787824   6.46459669  7.22263378\n",
      "  7.93834271  6.86079103  6.41622381  5.7111624   5.49162876  3.70987672\n",
      "  7.04289342  5.45248984  5.66268966  7.76294922  4.06763156  2.94690045\n",
      "  5.97697181  6.50790804  7.92796304  4.76247132  6.8533411   7.26495319\n",
      "  6.08138517  6.25006559  6.49341042  5.34144283  7.28393968  6.01806886\n",
      "  5.04108549  4.71694596  4.43448524  6.01776117  8.61727263  7.71498325\n",
      "  2.86170092  7.28296186  3.14414493  3.2932826   8.18903133  5.03121268\n",
      "  5.53572215  9.31631903  4.44689535  3.94861419  1.92684601  6.94699537\n",
      "  5.07241767  6.21064119  4.21667512  3.83087358  5.68978017  3.50213658\n",
      "  4.30368727  2.21631693  7.08773975  2.37685464  4.8949978   5.82351702\n",
      "  3.6418624   3.54727415  1.76191251  3.1864304   6.86605716  4.90807668\n",
      "  7.16671992  6.07869525  3.1999073   6.26037138  2.70772311  1.48628731\n",
      "  4.25844565  6.2121654   3.56717877  6.58336637  4.55423418  4.37861608\n",
      "  5.02757633  1.85980448  8.58314018  7.45017274  6.21198182  4.2940668\n",
      "  5.00286736  3.14684202  5.52573441  4.2087409   5.34853579  6.72197469\n",
      "  6.79842509  5.82897123  5.71188079  5.35102415  3.23834659  4.66641509\n",
      "  5.76796069  4.74639911  4.47626785  4.86929814  6.74781669  3.7777405\n",
      "  5.4143048  11.89222909  5.90963503  4.23248813  3.61067982  7.03404626\n",
      "  6.08574831  5.69853371  5.33620926  3.65460138  4.00037599  6.00721243\n",
      "  7.76710247  3.49538238  8.09664642  6.47887574  2.18778884  3.65321893\n",
      "  3.71446153  4.58019473  3.25592053  5.03598772  3.31563796  3.73922495\n",
      "  5.22144436  3.43665527  5.79585117  4.73817571  6.28768198  6.14179175\n",
      "  5.50579142  7.25018205  4.55146773  7.55548264  5.3823344   4.5370996\n",
      "  3.31637068  3.0507036   5.54273263  7.34636534  5.85654863  8.17440204\n",
      "  5.63905491  5.75552735  6.96370893  2.53703326  5.54197492  3.21323541\n",
      "  7.18144105  4.94156525  4.13701968  6.31565319  7.27549941  6.59819167\n",
      "  3.08604019  9.17652625  7.4596431   6.82650194  6.25406514  8.09311804\n",
      "  6.06064623  6.71442116  6.6813829   3.7231849   4.86167015  8.09664642\n",
      "  5.53021277  4.60386963  4.97505743  8.30549882  6.89335904  7.74861523\n",
      "  6.63600801  7.44424291  6.18581776  2.98244077  4.47005365  2.3323438\n",
      "  6.67020016  5.44664284  2.89721065  7.27875568  5.38306827  5.07688681\n",
      "  2.82602894  4.70455211  5.49834546 -1.02475354  2.0741913   4.00385818\n",
      "  2.6983585   5.58251533  6.6019313   7.19569569  6.93473494  4.42366345\n",
      "  7.97340409  6.64901317  7.78520189  3.98928495  5.26472483  3.76539671\n",
      "  4.51725771  6.12125114  4.66973723  3.4264441   5.83582745  5.58431629\n",
      "  8.15308288  4.91493294  6.36103351  6.64976513  4.8761505   5.65957207\n",
      "  3.75192912  4.00037599  6.60746143  4.40991425  7.07107065  1.82795307\n",
      "  3.55427978  6.26649934  1.69663727  5.89485031  1.60246562  4.73299584\n",
      "  7.24457584  4.2471129   6.95430785  4.32113992  6.60155322  4.85037336\n",
      "  5.14827943  2.54204576  4.7146287   3.60868558  7.71428864  5.10221467\n",
      "  5.10855685  4.58554646  4.3570827   5.30828766  4.5830242   6.42663936\n",
      "  6.49012203  5.93659709  3.65463329  6.8131838   4.32838025  3.12152181\n",
      "  1.36686672  4.72680686  3.08604019  5.34747784  7.04372781  7.42640382\n",
      "  2.37136576  2.57268518  7.21595764  6.28006143  5.14352808  6.9600624\n",
      "  7.81415622  7.7375743   5.53557599  3.8952006   6.91307537  2.67834046\n",
      "  5.11978692  7.08660735  8.2477955   7.22302224  7.77570471  5.9737212\n",
      "  4.96621305  8.39153822  4.4498627   5.47049428  3.22917902  3.17205464\n",
      "  2.6766521   3.18107356  4.93984894  2.32940604  4.78585701  7.14770681\n",
      "  4.54640777  5.39464129  5.25488192  3.97179855  3.76148057  4.13985377\n",
      "  5.54717134  7.75338021  8.38704058  5.19142821  3.58757164  4.40908751\n",
      "  6.22853745  4.79625894  4.00052616  3.09501579  6.55811847  6.48778228\n",
      "  3.24670918  6.26334051  3.27790149  8.20509877  6.97122057  4.78184225\n",
      "  2.78977734  5.34039606  6.33702923  8.28330523  2.34186036  7.2836296\n",
      "  4.18584556  5.31468081  4.19300022  5.4562761   5.09387095  6.22974105\n",
      "  1.41034449  5.88745541  7.5965575   3.19829977  5.04948379 -0.8040109\n",
      "  4.67758954  6.56269917  6.01088115  5.30177431  5.85975906  4.28061156\n",
      "  5.76199704  7.43795583  5.93241206  6.28832968  7.03816738  1.39266771\n",
      "  4.8040859   6.01917842  5.86459637  3.49991722  3.20949493  1.57547186\n",
      "  4.76571283  5.196741    5.97276758  6.11985659  7.44685193  5.80330474\n",
      "  4.69687383  6.77840238  6.03438394  6.31567144  4.93160527  3.59303651\n",
      "  3.2678253   8.20317562  6.89037072  3.09488951  4.43347833  5.12368055\n",
      "  6.87919875  3.18787789  7.30641615 -0.62900834  5.53877735  7.33549329\n",
      "  3.238671    8.29194996  4.96545508  4.94481513  7.09860606  5.80305321\n",
      "  4.34420579  4.60826129  6.31905617  4.95437772  4.57121576  4.91385041\n",
      "  4.61890744  5.23343583  6.88158377  7.50258222  1.67894996  4.29537991\n",
      "  5.11190071  6.61471174  5.8870611   6.79622749  2.98404901  5.58396968\n",
      "  5.68524849  5.16193713  5.99078625  4.66359202  7.43140043  7.44417064\n",
      "  6.55305231  5.46380693  4.85722963  4.89609554  7.22784803  1.95937737\n",
      "  6.29818866  4.67048774  5.77816711  3.21645134  4.35918807  5.91852643\n",
      "  6.64133046  6.63350533  1.42513577  4.72929827  4.96709632  2.77720306\n",
      "  3.36526066  6.39749733  4.29245291  6.91150437  6.08260844  2.33566184\n",
      "  4.92395588  2.97232192  4.54773283  5.02235727  5.40827235  5.44142393\n",
      "  7.48307736  5.08306844  1.25972913  7.34188056  3.32444181  6.71130216\n",
      "  1.7823306   4.68551715  6.84994674  4.3312386   3.72258564  2.46121088\n",
      "  5.56879538  2.18461675  4.98499776  3.72619802  4.61027801  6.74725312\n",
      "  6.62884051  3.59997844  4.52649079  4.15921326  5.766281    3.3097672\n",
      "  6.70342952  6.28754496  7.09062403  8.03938718  7.00158728  8.07536318\n",
      "  1.99853756  6.73678091  3.47079007  2.61122101  2.8306867   7.75326354\n",
      "  6.51936342  6.46319363  2.85163527  4.67003283  3.07814027  4.63090535\n",
      "  5.2688731   3.92410737  4.27551039  4.25257241  6.16653292  4.01904128\n",
      "  3.66507703  2.28808031  2.17260611  1.76910157  3.1284822   4.39303168\n",
      "  5.61785874  5.38283897  4.31008133  5.03148435  2.10602536  3.17778517\n",
      "  6.00950303  4.80014597  3.37164607  2.1979329   5.55972157  8.32255749\n",
      "  6.78523508  8.51138357  6.61661605  4.15856543  6.20879651  2.26065919\n",
      "  7.03883244  5.79529718  5.5391453   7.17607155  5.38737754  5.83260443\n",
      "  6.02953476  5.6413556   3.44997142  7.33374866  4.56090462  3.23248972\n",
      "  4.42770385  6.78185402  3.61479085  7.63059675  6.97637716  5.18347653\n",
      "  6.55923225  4.1458133   5.02051596  6.37881697  8.17210461  5.01697405\n",
      "  3.53830651  2.16242317  3.94813385  6.72713062  4.5490921   5.05160802\n",
      "  5.68966947  8.08001578  7.44534818  3.58420262  4.38030613  4.59967237\n",
      "  9.00066857  7.38359199  5.59306521  4.13927507  5.69388155  6.90924803\n",
      "  3.37873606  3.49183664  5.40663911  3.72763158  3.37781376  6.63563713\n",
      "  3.4159668   6.87402995  1.46316716  5.28354321  5.9456807   6.61566427\n",
      "  7.07291214  4.20612912  3.21763323  2.41194331  9.11083324  5.89838082\n",
      "  4.33922044  4.48604079  5.08878749  8.12432046  6.2579811   6.39468022\n",
      "  3.33012607  5.91916398  6.68318027  5.20431008  6.68885175  5.30656797\n",
      "  7.31140811  3.75597293  2.63075599  3.88962785  2.87130385  3.54292546\n",
      "  5.098806    5.20447749  4.24266114  5.22850479  2.84394605  4.93107901\n",
      "  4.92106792  5.34893579  4.51720371  5.86438183  8.456219    8.02036822\n",
      "  2.72103926  5.05078653  3.43981704  5.08895737  5.43159483  4.83332021\n",
      "  2.97859841  4.14193327  5.30439034  6.78409282  4.38523415  6.81004121\n",
      "  6.02979684  6.27916928  3.31637068  6.44079745  0.95147802  3.30745603\n",
      "  6.63718618  9.15451653  1.56562427  5.81498077  4.62680125  5.10821893\n",
      "  4.79422003  6.11237371  7.07761461  6.02601962  7.9479505   6.87747358\n",
      "  3.60488726  8.29194996  5.9595419   1.84086042  2.57408252  8.29561823\n",
      "  2.42702166  5.34871194  6.87303614  7.0750201   6.49896223  3.12461136\n",
      "  2.78488133  5.63722337  6.63720083  5.51925612  1.44798052  2.26451365\n",
      "  4.17953403  3.15844969  5.42158661  4.43210783  5.1497159   5.04013148\n",
      "  5.88490735  5.97357958  7.06582315  7.71454354  4.07641739  0.99672382\n",
      "  3.11351124  3.71456858  6.39021367  7.92901692  3.96134161  6.674658\n",
      "  7.78958152  6.28847116  5.34747784  5.58990905  6.25161512  2.72103926\n",
      "  3.55822796  4.92770173  5.43698521  6.24508995  4.46739042  4.90775177\n",
      "  6.95746253  5.00134833  5.08907085  3.17206417  7.85622136  2.40444554\n",
      "  7.19206164  3.22059172  7.33335045  7.18727101  7.25781681  4.49908859\n",
      "  8.3651493   1.88722273  4.18140685  5.41441456  7.15841713  5.54958688\n",
      "  8.20882465  3.97432691  1.56850844  4.37506276  6.13377603  6.54183545\n",
      "  6.3884276   6.51130308  4.32750451  3.50875465  5.49541344  6.91104441\n",
      "  3.80130946  5.19682438  2.27881227  6.39998881  6.40150601  7.77159395\n",
      "  5.48694475  7.40226959  7.98488506  4.04462388  6.22170698  4.26890588\n",
      "  7.44233546  3.202595    3.55292932  5.15099198  1.17619692  4.37238335\n",
      "  4.91163899  3.44577307  7.60869325  4.60492454  4.13397119  4.41516171\n",
      "  5.03402995  7.39059864  4.49415588  4.6975312   4.79268557  5.96167684\n",
      "  3.57027416  5.63073633  6.15820307  1.06531334  7.25485655  6.9582595\n",
      "  7.76921116  3.79421234  6.55923225  3.95835217  3.45384653  4.53361389\n",
      "  3.19700811  4.99378447  4.92342464  0.44328552  7.88462975  8.00606681\n",
      "  4.19152987  5.87778256  5.46427311  1.84283556  4.48736464  5.75165821\n",
      "  6.68795503  4.78552893  4.57351494  3.60290364  3.95591184  4.44075812\n",
      "  4.43921845  6.61541192  2.22758353  5.49252693  5.09572404  5.60716028\n",
      "  5.58251533  5.45753219  5.66590113  6.9622752   6.24329482  6.51433554\n",
      "  6.20244846  5.41938604  5.15117284  7.31341886  4.07333252  5.3909726\n",
      "  6.3647361   6.53606749  5.48781856  3.80529223  6.25406514  3.63661813\n",
      "  4.53352218  1.64326418  5.15832737  5.50579142  4.50799907  4.50290835\n",
      "  4.81838466  2.31780432  5.41109225  7.01851963  3.911311    6.6149926\n",
      "  7.13168438  8.58912946  7.00005631  3.2611365   0.95429659  5.55959975\n",
      "  4.78022619  6.60962725  3.83335883  6.14984415  3.86345059  7.25534252\n",
      "  2.47690984  2.73914923  6.55466409  4.83073355  5.5518825   3.96110236\n",
      "  5.29776593  7.28698038  6.69855396  8.85609635  4.84759268  7.03848059\n",
      "  3.18042162  2.49321987  5.72307055  6.40562041  4.98043116  3.15262094\n",
      "  5.24363794  6.30246107  6.81818223  5.79059322  8.03404091  6.0775533\n",
      "  3.8842697   2.51765218  6.74666494  7.85178264  6.53853456  7.42681475\n",
      "  3.51010559  5.0280305   4.76141338  6.39403479  4.83959563  5.33769447\n",
      "  5.4297677   2.99261815  5.22954466  2.65836925  0.64354311  3.17579204\n",
      "  6.64295651  4.04468617  6.74537755  5.10351911  4.69164664  7.31805139\n",
      "  4.53366403  5.43384438  4.18140685  7.10377616  4.86782855  3.90189304\n",
      "  6.57470674  3.69274309  5.53279632  6.9548315   2.76094355  4.94936014\n",
      "  8.19351755  6.35202311  1.75747379  5.69481467  7.81368228  3.74982517\n",
      "  6.4041427   6.26081207  7.66221698  3.59313775  7.2976974   6.74781669\n",
      "  4.06018168  6.72963785  6.3281518   5.29135713  2.97356333  6.48181335\n",
      "  4.41048684  5.2822183   4.99406711  1.93828814  6.2164249   6.17865615\n",
      "  7.75204147  6.61693556  4.30148475  5.14907732  5.59366054  1.81036911\n",
      "  6.01169099  4.8773933   5.0471055   1.55807845  4.4425629   5.58111891\n",
      "  5.4675694   3.16014173  4.97355073  7.5068374   4.01491794  6.26339245\n",
      "  6.5137313   3.66865097  1.63061233  4.47074549  2.16053252  8.3543247\n",
      "  4.52562311  5.61055433  3.57671522  5.9894866   3.22503044  4.16592372\n",
      "  4.27173241  6.95600451  7.89395554  4.6222419   5.70447363  8.01585577\n",
      "  4.67936517  3.56597747  6.95256328  4.32430206  5.64500561  4.78403432\n",
      "  5.77898415  4.24945521  7.52220571  3.6702266   6.1631603   2.58815296\n",
      "  6.14133608  4.90775177  2.07766196  5.54425375  4.88934047  1.32143885\n",
      "  5.77598097  7.14332191  5.60722347  3.16883628  6.98640502  3.47962213\n",
      "  6.07102577  2.22900392  6.44783331  6.09878988  3.48149982  4.88871702\n",
      "  6.07658728  3.55297651  1.92847669  4.73913954  3.88045365  3.53830651\n",
      "  6.285164    4.62408531  7.90651594  3.90926531  4.21247786  5.45674754\n",
      "  3.93268192  2.20361303  7.2159984   7.74022273  4.32287624  6.9457718\n",
      "  7.5440423   5.88702727  7.49125464  5.84857669  5.19235397  4.66692624\n",
      "  6.99732021  5.40180039  4.06462039  1.67894996  7.01698662  6.99661919\n",
      "  6.18503437  4.7209071   4.95067754  4.83820663  6.88380003  6.64722737\n",
      "  2.4488327   4.77700641  4.84715877  5.89313448  5.92992714  5.99529156\n",
      "  5.67556205  6.58008084  6.9598703   3.2195042   4.83281888  5.79828676\n",
      "  4.90497297  4.89903003  5.4953617   1.98966013  5.41332202  7.25431172\n",
      "  4.06155352  6.8759759   3.91071178  6.72403699  5.42941811  4.10781561\n",
      "  4.53510673  4.64445376  3.25501394  4.6075971   4.13980893  0.84795264\n",
      "  5.40623911  1.87943641  6.38181744  4.21695881  5.38559222  2.37685464\n",
      "  5.4886032   7.46643649  2.81731375  5.96309854  4.76338197  4.54042393\n",
      "  6.43348669  4.16246303  5.23946842  7.340197    5.40513241  2.5739493\n",
      "  6.77083104  2.33246747  7.36027109  6.75227957  2.11614535  3.22946916\n",
      "  8.02638859  7.2435917   5.43934336  6.58017459  4.7658521   3.57701355\n",
      "  8.52938182  5.88289966  1.30944276  7.12432724  6.32933144  3.65176088\n",
      "  6.0760946   6.70616977  8.1945309   5.18307354  7.07176277  7.68643823\n",
      "  4.03515956  6.17203773  4.66847248  1.66904637  4.28718016  5.73847025\n",
      "  4.3570827   2.64726944  5.71081219  6.26383959  6.57403677  5.10459228\n",
      "  7.74075564  8.60459662  5.19694839  3.55698493  5.61418618  4.75272159\n",
      "  6.78784072  5.28740733  9.68647873  6.84250275  6.94423212  2.1848116\n",
      "  6.84061571  7.99775398  5.19008292  7.06140289  5.49747487  7.47079098\n",
      "  6.86419355  4.46693475  2.1415351   0.23633966  3.63529808  1.85830911\n",
      "  5.40663911  5.38760784  3.14472102  1.86326641  5.85303748  4.1888889\n",
      "  2.15354573  6.69267451  4.58635622  2.50864307  4.48870445  4.39394628\n",
      "  8.68283343  1.05981377  5.61649734  7.24053561  7.64104627  5.56538688\n",
      "  6.69239375  4.17822256  3.96901432  6.43993726  6.25100578  5.14983282\n",
      "  5.46485083  7.20607364  5.53980061  3.70559923  5.59025973  4.80741736\n",
      "  4.24378144  3.09129986  5.88819846  5.52053904  6.90350359  4.72964959\n",
      "  7.35115857  3.82977622  4.23330967  2.58512741  7.30447532  7.75757837\n",
      "  4.50004069  7.19039001  6.86913505  2.4488327   5.4156412   4.32863842\n",
      "  8.22560192  6.92487371  6.64413453  5.5118367   3.01838975  6.35118117\n",
      "  4.71936133  6.06941013  4.04491332  5.05255989  4.19930781  2.51154593\n",
      "  7.30071673  2.61007134  3.99012951  6.45769213  3.81497235  4.32799798\n",
      "  0.84672596  5.18534256  5.88322727  2.84403425  5.00254849  5.76409186\n",
      "  4.30252989  7.08846569  5.87796181  5.85386069  5.25000762  5.23352377\n",
      "  7.67316153  5.5877012   1.35709508  4.72891646  5.42464454  4.90452216\n",
      "  4.57098531  5.04163818  4.95356281  6.1098957   6.67283458  6.73678091\n",
      "  6.85117701  5.08096531  4.7858806   6.03776245  6.98400406  7.39642286\n",
      "  4.57515223  6.93276433  5.13282249  6.79726679  4.70302349  7.15063754\n",
      "  1.82405454  5.19675164  8.50853149  6.85958656  3.74671094  8.33481232\n",
      "  6.66982597  4.12213666  4.14193327  3.15780199  8.29638868  6.51847499\n",
      "  1.72939332  5.54961226  4.79508939  7.69260738  6.53295802  6.16788757\n",
      "  2.21823584  3.6561996   4.8476172   7.41049     6.00071306  6.86665725\n",
      "  3.56645797  2.56423934  3.10074637  4.90553275  6.12436592  6.98853355\n",
      "  7.92901692  2.25122357  6.25409298  7.25385176  6.80699302  4.19893334\n",
      "  6.31594077  4.27573703  4.39207644  5.00245964  5.29487117  5.06255762\n",
      "  4.10849893  5.84859877  6.2856665   7.57804962  6.06775765  6.61941357\n",
      "  7.24342443  5.34507005  6.67029113  8.06540914  7.26813887  5.5557167\n",
      "  5.98333126  6.31127227  4.70263526  3.16732712  6.06061021  6.19733842\n",
      "  4.42881782  5.50593997  8.06648574  7.21834202  4.05555591  6.5003242\n",
      "  4.92568138  7.56987517  6.31582098  5.38404552  4.9720889   8.09108023\n",
      "  3.01686283  4.28365929  6.53952357  2.66189111  4.7281537   7.77811401\n",
      "  3.10526006  3.0437765   4.32779181  6.1098957   6.52895223  5.3232385\n",
      "  3.81325024  5.91514253  7.02005142  7.24130461  4.58378446  4.17779355\n",
      "  6.73543592  5.1526061   3.81582535  7.00297525  1.63005652  7.10715394\n",
      "  8.12204459  6.51599862  6.9690075   5.76610416  2.02463344  4.5714732\n",
      "  8.55854936  4.85265132  5.62625864  6.20528645  7.32499551  4.30504308\n",
      "  4.60318034  4.11216243  6.55601834  6.95528462  2.10915856  6.92921387\n",
      "  4.7728779   2.92917617  7.68880837  6.26208561  5.48397829  4.82067284\n",
      "  6.856619    2.82626664  3.77201875  5.22490812  7.19691745  5.64349641\n",
      "  8.76825171  4.45038736  4.55680633  5.72007825  9.80496068  6.5780111\n",
      "  8.22520366  6.00110857  2.52219856  7.37474488  5.12050325  4.38510797\n",
      "  5.87268975  4.95223669  2.49321987  6.86282704  7.38558312  3.37820344\n",
      "  3.1999073   3.91687121  6.23861849  4.74343951  7.4596431   6.83678453\n",
      "  3.67436698  2.34695862  5.24006981  6.25929809  7.72538188  7.48895678\n",
      "  2.97341732  4.44366663  7.51019815  4.50708056  5.37960681  1.89480768\n",
      "  6.31864277  4.75096468  6.44589318 -0.5635639   7.80914491  7.25888018\n",
      "  5.12304482  8.63566764  6.10530233  5.28678615  6.12161702  6.56091899\n",
      "  3.53676677  4.45407651  3.89862515  7.82306093  3.92839999  5.52211966\n",
      "  6.42320413  2.91940424  4.99691265  4.47076355  5.30224833  7.27149675\n",
      "  4.2114614   5.28791113  6.90579792  2.08827049  6.41892735  4.01575618\n",
      "  5.60045075  4.12370353  6.63025171  4.19008018  4.55176754  4.98543541\n",
      "  6.55283282  2.94159782  4.90527637  4.81897743  4.68581593  5.28813007\n",
      "  7.40018245  5.55670382]\n"
     ]
    }
   ],
   "source": [
    "with np.printoptions(threshold=np.inf):\n",
    "    print(y_pred)"
   ]
  },
  {
   "cell_type": "code",
   "execution_count": 75,
   "id": "768bdcec",
   "metadata": {},
   "outputs": [
    {
     "data": {
      "text/plain": [
       "0.6763800727408213"
      ]
     },
     "execution_count": 75,
     "metadata": {},
     "output_type": "execute_result"
    }
   ],
   "source": [
    "r2_score(y_test,y_pred)"
   ]
  },
  {
   "cell_type": "code",
   "execution_count": 77,
   "id": "14f470c8",
   "metadata": {},
   "outputs": [],
   "source": [
    "scores=[]\n",
    "for i in range(10000):\n",
    "    X_train,X_test,y_train,y_test=train_test_split(X,y,test_size=0.2,random_state=i)\n",
    "    lr=LinearRegression()\n",
    "    pipe=make_pipeline(column_trans,lr)\n",
    "    pipe.fit(X_train,y_train)\n",
    "    y_pred=pipe.predict(X_test)\n",
    "    scores.append(r2_score(y_test,y_pred))"
   ]
  },
  {
   "cell_type": "code",
   "execution_count": 80,
   "id": "62195be4",
   "metadata": {},
   "outputs": [
    {
     "data": {
      "text/plain": [
       "0.7783930591662221"
      ]
     },
     "execution_count": 80,
     "metadata": {},
     "output_type": "execute_result"
    }
   ],
   "source": [
    "scores[np.argmax(scores)]"
   ]
  },
  {
   "cell_type": "code",
   "execution_count": 81,
   "id": "120722e2",
   "metadata": {},
   "outputs": [
    {
     "data": {
      "text/plain": [
       "7409"
      ]
     },
     "execution_count": 81,
     "metadata": {},
     "output_type": "execute_result"
    }
   ],
   "source": [
    "np.argmax(scores)"
   ]
  },
  {
   "cell_type": "code",
   "execution_count": 83,
   "id": "9a9b920e",
   "metadata": {},
   "outputs": [
    {
     "data": {
      "text/plain": [
       "0.7783930591662221"
      ]
     },
     "execution_count": 83,
     "metadata": {},
     "output_type": "execute_result"
    }
   ],
   "source": [
    "X_train,X_test,y_train,y_test=train_test_split(X,y,test_size=0.2,random_state=np.argmax(scores))\n",
    "lr=LinearRegression()\n",
    "pipe=make_pipeline(column_trans,lr)\n",
    "pipe.fit(X_train,y_train)\n",
    "y_pred=pipe.predict(X_test)\n",
    "r2_score(y_test,y_pred)"
   ]
  },
  {
   "cell_type": "code",
   "execution_count": 84,
   "id": "c6548464",
   "metadata": {},
   "outputs": [],
   "source": [
    "import pickle"
   ]
  },
  {
   "cell_type": "code",
   "execution_count": 85,
   "id": "8b91c301",
   "metadata": {},
   "outputs": [],
   "source": [
    "pickle.dump(pipe,open('LinearRegressionModel.pkl','wb'))"
   ]
  },
  {
   "cell_type": "code",
   "execution_count": 92,
   "id": "d49d2edf",
   "metadata": {},
   "outputs": [
    {
     "data": {
      "text/plain": [
       "array([7.73721046])"
      ]
     },
     "execution_count": 92,
     "metadata": {},
     "output_type": "execute_result"
    }
   ],
   "source": [
    "pipe.predict(pd.DataFrame([['Maruti Baleno Delta',2015,10000,'Diesel','Automatic',16,1200]],columns=['full_name','year','km_driven','fuel_type','transmission_type','mileage','engine']))"
   ]
  },
  {
   "cell_type": "code",
   "execution_count": null,
   "id": "0978e620",
   "metadata": {},
   "outputs": [],
   "source": []
  }
 ],
 "metadata": {
  "kernelspec": {
   "display_name": "Python 3 (ipykernel)",
   "language": "python",
   "name": "python3"
  },
  "language_info": {
   "codemirror_mode": {
    "name": "ipython",
    "version": 3
   },
   "file_extension": ".py",
   "mimetype": "text/x-python",
   "name": "python",
   "nbconvert_exporter": "python",
   "pygments_lexer": "ipython3",
   "version": "3.10.4"
  }
 },
 "nbformat": 4,
 "nbformat_minor": 5
}
